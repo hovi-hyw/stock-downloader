{
 "cells": [
  {
   "metadata": {},
   "cell_type": "markdown",
   "source": "# 一、股票相关下载",
   "id": "d29f902471dccb97"
  },
  {
   "metadata": {},
   "cell_type": "markdown",
   "source": [
    "## 1.1 获取股票 列表\n",
    "\n",
    "接口: stock_zh_a_spot\n",
    "\n",
    "目标地址: https://vip.stock.finance.sina.com.cn/mkt/#hs_a\n",
    "\n",
    "描述: 新浪财经-沪深京 A 股数据, 重复运行本函数会被新浪暂时封 IP, 建议增加时间间隔\n",
    "\n",
    "限量: 单次返回沪深京 A 股上市公司的实时行情数据\n",
    "\n",
    "输入参数: 无"
   ],
   "id": "139399321e6b889c"
  },
  {
   "metadata": {},
   "cell_type": "code",
   "source": [
    "from django.contrib.admin import display\n",
    "import akshare as ak\n",
    "stock_list = ak.stock_zh_a_spot()\n",
    "display(stock_list)"
   ],
   "id": "59ccdb20ced6dc66",
   "outputs": [],
   "execution_count": null
  },
  {
   "metadata": {},
   "cell_type": "markdown",
   "source": [
    "## 1.2 获取个股 数据\n",
    "接口: stock_zh_a_daily\n",
    "\n",
    "目标地址: https://finance.sina.com.cn/realstock/company/sh600006/nc.shtml(示例)\n",
    "\n",
    "描述: 新浪财经-沪深京 A 股的数据, 历史数据按日频率更新;\n",
    "\n",
    "限量: 单次返回指定沪深京 A 股上市公司指定日期间的历史行情日频率数据, 多次获取容易封禁 IP\n",
    "\n",
    "输入参数\n",
    "\n",
    "| 名称         | 类型  | 描述                                                                                   |\n",
    "|------------|-----|--------------------------------------------------------------------------------------|\n",
    "| symbol     | str | symbol='sh600000'; 股票代码可以在 **ak.stock_zh_a_spot()** 中获取                              |\n",
    "| start_date | str | start_date='20201103'; 开始查询的日期                                                       |\n",
    "| end_date   | str | end_date='20201116'; 结束查询的日期                                                         |\n",
    "| adjust     | str | 默认返回不复权的数据; qfq: 返回前复权后的数据; hfq: 返回后复权后的数据; hfq-factor: 返回后复权因子; qfq-factor: 返回前复权因子 |"
   ],
   "id": "18e4e7becfa9228f"
  },
  {
   "metadata": {
    "collapsed": true
   },
   "cell_type": "code",
   "source": [
    "import akshare as ak\n",
    "\n",
    "stock_data = ak.stock_zh_a_daily(symbol=\"sz000001\", start_date=\"20250101\", end_date=\"20990101\")\n",
    "display(stock_data)"
   ],
   "id": "initial_id",
   "outputs": [],
   "execution_count": null
  },
  {
   "metadata": {},
   "cell_type": "code",
   "source": [
    "display(stock_data.columns)\n",
    "print(stock_data.dtypes)"
   ],
   "id": "2301cef1fe8619c2",
   "outputs": [],
   "execution_count": null
  },
  {
   "metadata": {},
   "cell_type": "markdown",
   "source": [
    "# 二、 指数相关下载\n",
    "## 2.1 获取指数 列表\n",
    "\n",
    "实时行情数据-新浪\n",
    "接口: stock_zh_index_spot_sina\n",
    "\n",
    "目标地址: https://vip.stock.finance.sina.com.cn/mkt/#hs_s\n",
    "\n",
    "描述: 新浪财经-中国股票指数数据\n",
    "\n",
    "限量: 单次返回所有指数的实时行情数据"
   ],
   "id": "54e2c9479fcaeae3"
  },
  {
   "metadata": {
    "ExecuteTime": {
     "end_time": "2025-02-06T05:05:32.636530Z",
     "start_time": "2025-02-06T05:05:29.377584Z"
    }
   },
   "cell_type": "code",
   "source": [
    "import akshare as ak\n",
    "\n",
    "stock_zh_index_spot_sina_df = ak.stock_zh_index_spot_sina()\n",
    "display(stock_zh_index_spot_sina_df)"
   ],
   "id": "cc6a27e1238c684c",
   "outputs": [
    {
     "data": {
      "text/plain": [
       "  0%|          | 0/8 [00:00<?, ?it/s]"
      ],
      "application/vnd.jupyter.widget-view+json": {
       "version_major": 2,
       "version_minor": 0,
       "model_id": "d0c7b09756754f4195088cfde47c12fe"
      }
     },
     "metadata": {},
     "output_type": "display_data"
    },
    {
     "ename": "OptionError",
     "evalue": "No such keys(s): 'func.html.border'",
     "output_type": "error",
     "traceback": [
      "\u001B[1;31m---------------------------------------------------------------------------\u001B[0m",
      "\u001B[1;31mOptionError\u001B[0m                               Traceback (most recent call last)",
      "File \u001B[1;32mD:\\codes\\Pycharm\\stock-insight\\.venv\\Lib\\site-packages\\IPython\\core\\formatters.py:406\u001B[0m, in \u001B[0;36mBaseFormatter.__call__\u001B[1;34m(self, obj)\u001B[0m\n\u001B[0;32m    404\u001B[0m     method \u001B[38;5;241m=\u001B[39m get_real_method(obj, \u001B[38;5;28mself\u001B[39m\u001B[38;5;241m.\u001B[39mprint_method)\n\u001B[0;32m    405\u001B[0m     \u001B[38;5;28;01mif\u001B[39;00m method \u001B[38;5;129;01mis\u001B[39;00m \u001B[38;5;129;01mnot\u001B[39;00m \u001B[38;5;28;01mNone\u001B[39;00m:\n\u001B[1;32m--> 406\u001B[0m         \u001B[38;5;28;01mreturn\u001B[39;00m \u001B[43mmethod\u001B[49m\u001B[43m(\u001B[49m\u001B[43m)\u001B[49m\n\u001B[0;32m    407\u001B[0m     \u001B[38;5;28;01mreturn\u001B[39;00m \u001B[38;5;28;01mNone\u001B[39;00m\n\u001B[0;32m    408\u001B[0m \u001B[38;5;28;01melse\u001B[39;00m:\n",
      "File \u001B[1;32mD:\\codes\\Pycharm\\stock-insight\\.venv\\Lib\\site-packages\\pandas\\core\\frame.py:1256\u001B[0m, in \u001B[0;36mDataFrame._repr_html_\u001B[1;34m(self)\u001B[0m\n\u001B[0;32m   1234\u001B[0m     show_dimensions \u001B[38;5;241m=\u001B[39m get_option(\u001B[38;5;124m\"\u001B[39m\u001B[38;5;124mdisplay.show_dimensions\u001B[39m\u001B[38;5;124m\"\u001B[39m)\n\u001B[0;32m   1236\u001B[0m     formatter \u001B[38;5;241m=\u001B[39m fmt\u001B[38;5;241m.\u001B[39mDataFrameFormatter(\n\u001B[0;32m   1237\u001B[0m         \u001B[38;5;28mself\u001B[39m,\n\u001B[0;32m   1238\u001B[0m         columns\u001B[38;5;241m=\u001B[39m\u001B[38;5;28;01mNone\u001B[39;00m,\n\u001B[1;32m   (...)\u001B[0m\n\u001B[0;32m   1254\u001B[0m         decimal\u001B[38;5;241m=\u001B[39m\u001B[38;5;124m\"\u001B[39m\u001B[38;5;124m.\u001B[39m\u001B[38;5;124m\"\u001B[39m,\n\u001B[0;32m   1255\u001B[0m     )\n\u001B[1;32m-> 1256\u001B[0m     \u001B[38;5;28;01mreturn\u001B[39;00m \u001B[43mfmt\u001B[49m\u001B[38;5;241;43m.\u001B[39;49m\u001B[43mDataFrameRenderer\u001B[49m\u001B[43m(\u001B[49m\u001B[43mformatter\u001B[49m\u001B[43m)\u001B[49m\u001B[38;5;241;43m.\u001B[39;49m\u001B[43mto_html\u001B[49m\u001B[43m(\u001B[49m\u001B[43mnotebook\u001B[49m\u001B[38;5;241;43m=\u001B[39;49m\u001B[38;5;28;43;01mTrue\u001B[39;49;00m\u001B[43m)\u001B[49m\n\u001B[0;32m   1257\u001B[0m \u001B[38;5;28;01melse\u001B[39;00m:\n\u001B[0;32m   1258\u001B[0m     \u001B[38;5;28;01mreturn\u001B[39;00m \u001B[38;5;28;01mNone\u001B[39;00m\n",
      "File \u001B[1;32mD:\\codes\\Pycharm\\stock-insight\\.venv\\Lib\\site-packages\\pandas\\io\\formats\\format.py:929\u001B[0m, in \u001B[0;36mDataFrameRenderer.to_html\u001B[1;34m(self, buf, encoding, classes, notebook, border, table_id, render_links)\u001B[0m\n\u001B[0;32m    922\u001B[0m \u001B[38;5;28;01mfrom\u001B[39;00m\u001B[38;5;250m \u001B[39m\u001B[38;5;21;01mpandas\u001B[39;00m\u001B[38;5;21;01m.\u001B[39;00m\u001B[38;5;21;01mio\u001B[39;00m\u001B[38;5;21;01m.\u001B[39;00m\u001B[38;5;21;01mformats\u001B[39;00m\u001B[38;5;21;01m.\u001B[39;00m\u001B[38;5;21;01mhtml\u001B[39;00m\u001B[38;5;250m \u001B[39m\u001B[38;5;28;01mimport\u001B[39;00m (\n\u001B[0;32m    923\u001B[0m     HTMLFormatter,\n\u001B[0;32m    924\u001B[0m     NotebookFormatter,\n\u001B[0;32m    925\u001B[0m )\n\u001B[0;32m    927\u001B[0m Klass \u001B[38;5;241m=\u001B[39m NotebookFormatter \u001B[38;5;28;01mif\u001B[39;00m notebook \u001B[38;5;28;01melse\u001B[39;00m HTMLFormatter\n\u001B[1;32m--> 929\u001B[0m html_formatter \u001B[38;5;241m=\u001B[39m \u001B[43mKlass\u001B[49m\u001B[43m(\u001B[49m\n\u001B[0;32m    930\u001B[0m \u001B[43m    \u001B[49m\u001B[38;5;28;43mself\u001B[39;49m\u001B[38;5;241;43m.\u001B[39;49m\u001B[43mfmt\u001B[49m\u001B[43m,\u001B[49m\n\u001B[0;32m    931\u001B[0m \u001B[43m    \u001B[49m\u001B[43mclasses\u001B[49m\u001B[38;5;241;43m=\u001B[39;49m\u001B[43mclasses\u001B[49m\u001B[43m,\u001B[49m\n\u001B[0;32m    932\u001B[0m \u001B[43m    \u001B[49m\u001B[43mborder\u001B[49m\u001B[38;5;241;43m=\u001B[39;49m\u001B[43mborder\u001B[49m\u001B[43m,\u001B[49m\n\u001B[0;32m    933\u001B[0m \u001B[43m    \u001B[49m\u001B[43mtable_id\u001B[49m\u001B[38;5;241;43m=\u001B[39;49m\u001B[43mtable_id\u001B[49m\u001B[43m,\u001B[49m\n\u001B[0;32m    934\u001B[0m \u001B[43m    \u001B[49m\u001B[43mrender_links\u001B[49m\u001B[38;5;241;43m=\u001B[39;49m\u001B[43mrender_links\u001B[49m\u001B[43m,\u001B[49m\n\u001B[0;32m    935\u001B[0m \u001B[43m\u001B[49m\u001B[43m)\u001B[49m\n\u001B[0;32m    936\u001B[0m string \u001B[38;5;241m=\u001B[39m html_formatter\u001B[38;5;241m.\u001B[39mto_string()\n\u001B[0;32m    937\u001B[0m \u001B[38;5;28;01mreturn\u001B[39;00m save_to_buffer(string, buf\u001B[38;5;241m=\u001B[39mbuf, encoding\u001B[38;5;241m=\u001B[39mencoding)\n",
      "File \u001B[1;32mD:\\codes\\Pycharm\\stock-insight\\.venv\\Lib\\site-packages\\pandas\\io\\formats\\html.py:68\u001B[0m, in \u001B[0;36mHTMLFormatter.__init__\u001B[1;34m(self, formatter, classes, border, table_id, render_links)\u001B[0m\n\u001B[0;32m     66\u001B[0m \u001B[38;5;28mself\u001B[39m\u001B[38;5;241m.\u001B[39mshow_dimensions \u001B[38;5;241m=\u001B[39m \u001B[38;5;28mself\u001B[39m\u001B[38;5;241m.\u001B[39mfmt\u001B[38;5;241m.\u001B[39mshow_dimensions\n\u001B[0;32m     67\u001B[0m \u001B[38;5;28;01mif\u001B[39;00m border \u001B[38;5;129;01mis\u001B[39;00m \u001B[38;5;28;01mNone\u001B[39;00m \u001B[38;5;129;01mor\u001B[39;00m border \u001B[38;5;129;01mis\u001B[39;00m \u001B[38;5;28;01mTrue\u001B[39;00m:\n\u001B[1;32m---> 68\u001B[0m     border \u001B[38;5;241m=\u001B[39m cast(\u001B[38;5;28mint\u001B[39m, \u001B[43mget_option\u001B[49m\u001B[43m(\u001B[49m\u001B[38;5;124;43m\"\u001B[39;49m\u001B[38;5;124;43mfunc.html.border\u001B[39;49m\u001B[38;5;124;43m\"\u001B[39;49m\u001B[43m)\u001B[49m)\n\u001B[0;32m     69\u001B[0m \u001B[38;5;28;01melif\u001B[39;00m \u001B[38;5;129;01mnot\u001B[39;00m border:\n\u001B[0;32m     70\u001B[0m     border \u001B[38;5;241m=\u001B[39m \u001B[38;5;28;01mNone\u001B[39;00m\n",
      "File \u001B[1;32mD:\\codes\\Pycharm\\stock-insight\\.venv\\Lib\\site-packages\\pandas\\_config\\config.py:274\u001B[0m, in \u001B[0;36mCallableDynamicDoc.__call__\u001B[1;34m(self, *args, **kwds)\u001B[0m\n\u001B[0;32m    273\u001B[0m \u001B[38;5;28;01mdef\u001B[39;00m\u001B[38;5;250m \u001B[39m\u001B[38;5;21m__call__\u001B[39m(\u001B[38;5;28mself\u001B[39m, \u001B[38;5;241m*\u001B[39margs, \u001B[38;5;241m*\u001B[39m\u001B[38;5;241m*\u001B[39mkwds) \u001B[38;5;241m-\u001B[39m\u001B[38;5;241m>\u001B[39m T:\n\u001B[1;32m--> 274\u001B[0m     \u001B[38;5;28;01mreturn\u001B[39;00m \u001B[38;5;28;43mself\u001B[39;49m\u001B[38;5;241;43m.\u001B[39;49m\u001B[38;5;18;43m__func__\u001B[39;49m\u001B[43m(\u001B[49m\u001B[38;5;241;43m*\u001B[39;49m\u001B[43margs\u001B[49m\u001B[43m,\u001B[49m\u001B[43m \u001B[49m\u001B[38;5;241;43m*\u001B[39;49m\u001B[38;5;241;43m*\u001B[39;49m\u001B[43mkwds\u001B[49m\u001B[43m)\u001B[49m\n",
      "File \u001B[1;32mD:\\codes\\Pycharm\\stock-insight\\.venv\\Lib\\site-packages\\pandas\\_config\\config.py:146\u001B[0m, in \u001B[0;36m_get_option\u001B[1;34m(pat, silent)\u001B[0m\n\u001B[0;32m    145\u001B[0m \u001B[38;5;28;01mdef\u001B[39;00m\u001B[38;5;250m \u001B[39m\u001B[38;5;21m_get_option\u001B[39m(pat: \u001B[38;5;28mstr\u001B[39m, silent: \u001B[38;5;28mbool\u001B[39m \u001B[38;5;241m=\u001B[39m \u001B[38;5;28;01mFalse\u001B[39;00m) \u001B[38;5;241m-\u001B[39m\u001B[38;5;241m>\u001B[39m Any:\n\u001B[1;32m--> 146\u001B[0m     key \u001B[38;5;241m=\u001B[39m \u001B[43m_get_single_key\u001B[49m\u001B[43m(\u001B[49m\u001B[43mpat\u001B[49m\u001B[43m,\u001B[49m\u001B[43m \u001B[49m\u001B[43msilent\u001B[49m\u001B[43m)\u001B[49m\n\u001B[0;32m    148\u001B[0m     \u001B[38;5;66;03m# walk the nested dict\u001B[39;00m\n\u001B[0;32m    149\u001B[0m     root, k \u001B[38;5;241m=\u001B[39m _get_root(key)\n",
      "File \u001B[1;32mD:\\codes\\Pycharm\\stock-insight\\.venv\\Lib\\site-packages\\pandas\\_config\\config.py:132\u001B[0m, in \u001B[0;36m_get_single_key\u001B[1;34m(pat, silent)\u001B[0m\n\u001B[0;32m    130\u001B[0m     \u001B[38;5;28;01mif\u001B[39;00m \u001B[38;5;129;01mnot\u001B[39;00m silent:\n\u001B[0;32m    131\u001B[0m         _warn_if_deprecated(pat)\n\u001B[1;32m--> 132\u001B[0m     \u001B[38;5;28;01mraise\u001B[39;00m OptionError(\u001B[38;5;124mf\u001B[39m\u001B[38;5;124m\"\u001B[39m\u001B[38;5;124mNo such keys(s): \u001B[39m\u001B[38;5;132;01m{\u001B[39;00m\u001B[38;5;28mrepr\u001B[39m(pat)\u001B[38;5;132;01m}\u001B[39;00m\u001B[38;5;124m\"\u001B[39m)\n\u001B[0;32m    133\u001B[0m \u001B[38;5;28;01mif\u001B[39;00m \u001B[38;5;28mlen\u001B[39m(keys) \u001B[38;5;241m>\u001B[39m \u001B[38;5;241m1\u001B[39m:\n\u001B[0;32m    134\u001B[0m     \u001B[38;5;28;01mraise\u001B[39;00m OptionError(\u001B[38;5;124m\"\u001B[39m\u001B[38;5;124mPattern matched multiple keys\u001B[39m\u001B[38;5;124m\"\u001B[39m)\n",
      "\u001B[1;31mOptionError\u001B[0m: No such keys(s): 'func.html.border'"
     ]
    },
    {
     "data": {
      "text/plain": [
       "           代码      名称        最新价      涨跌额    涨跌幅         昨收         今开  \\\n",
       "0    sh000001    上证指数  3255.7386   26.251  0.813  3229.4876  3226.5750   \n",
       "1    sh000002    Ａ股指数  3412.3761   27.467  0.811  3384.9087  3381.8750   \n",
       "2    sh000003    Ｂ股指数   264.2955    1.398  0.532   262.8974   262.9306   \n",
       "3    sh000004    工业指数  2820.2087   32.661  1.172  2787.5475  2783.2111   \n",
       "4    sh000005    商业指数  2531.4379   12.663  0.503  2518.7747  2514.7066   \n",
       "..        ...     ...        ...      ...    ...        ...        ...   \n",
       "557  sz980030    消费电子  5743.4040  183.994  3.310  5559.4100  5521.3760   \n",
       "558  sz980032    新能电池  9915.3180  333.737  3.483  9581.5810  9557.1530   \n",
       "559  sz980035    化肥农药  1562.6130    8.736  0.562  1553.8770  1551.6050   \n",
       "560  sz980076    通用航空  2886.1540   97.912  3.512  2788.2420  2786.7690   \n",
       "561  sz980092  CNIFCF  4568.9720    9.991  0.219  4558.9810  4550.5830   \n",
       "\n",
       "            最高         最低         成交量           成交额  \n",
       "0    3266.1383  3225.8459   292788190  375835119418  \n",
       "1    3423.3168  3381.0975   292577610  375458847401  \n",
       "2     264.4965   262.4334      148194      60761223  \n",
       "3    2828.0231  2780.0075   182762091  287775428315  \n",
       "4    2542.5321  2508.4902    22577352   21874666686  \n",
       "..         ...        ...         ...           ...  \n",
       "557  5751.5320  5521.3760  2107455750   53361749083  \n",
       "558  9915.3180  9551.8360   559855676   19999077976  \n",
       "559  1564.0130  1543.5630   789582029    7084121932  \n",
       "560  2889.7740  2770.1460   785737263   16359570868  \n",
       "561  4586.6290  4539.9150  2473577306   25260536210  \n",
       "\n",
       "[562 rows x 11 columns]"
      ]
     },
     "metadata": {},
     "output_type": "display_data"
    }
   ],
   "execution_count": 2
  },
  {
   "metadata": {
    "ExecuteTime": {
     "end_time": "2025-02-06T05:11:49.848880Z",
     "start_time": "2025-02-06T05:11:49.812180Z"
    }
   },
   "cell_type": "code",
   "source": [
    "filtered_df = stock_zh_index_spot_sina_df[stock_zh_index_spot_sina_df['代码'].str.contains('000001')]\n",
    "display(filtered_df)"
   ],
   "id": "a728160dd25c4955",
   "outputs": [
    {
     "ename": "OptionError",
     "evalue": "No such keys(s): 'func.html.border'",
     "output_type": "error",
     "traceback": [
      "\u001B[1;31m---------------------------------------------------------------------------\u001B[0m",
      "\u001B[1;31mOptionError\u001B[0m                               Traceback (most recent call last)",
      "File \u001B[1;32mD:\\codes\\Pycharm\\stock-insight\\.venv\\Lib\\site-packages\\IPython\\core\\formatters.py:406\u001B[0m, in \u001B[0;36mBaseFormatter.__call__\u001B[1;34m(self, obj)\u001B[0m\n\u001B[0;32m    404\u001B[0m     method \u001B[38;5;241m=\u001B[39m get_real_method(obj, \u001B[38;5;28mself\u001B[39m\u001B[38;5;241m.\u001B[39mprint_method)\n\u001B[0;32m    405\u001B[0m     \u001B[38;5;28;01mif\u001B[39;00m method \u001B[38;5;129;01mis\u001B[39;00m \u001B[38;5;129;01mnot\u001B[39;00m \u001B[38;5;28;01mNone\u001B[39;00m:\n\u001B[1;32m--> 406\u001B[0m         \u001B[38;5;28;01mreturn\u001B[39;00m \u001B[43mmethod\u001B[49m\u001B[43m(\u001B[49m\u001B[43m)\u001B[49m\n\u001B[0;32m    407\u001B[0m     \u001B[38;5;28;01mreturn\u001B[39;00m \u001B[38;5;28;01mNone\u001B[39;00m\n\u001B[0;32m    408\u001B[0m \u001B[38;5;28;01melse\u001B[39;00m:\n",
      "File \u001B[1;32mD:\\codes\\Pycharm\\stock-insight\\.venv\\Lib\\site-packages\\pandas\\core\\frame.py:1256\u001B[0m, in \u001B[0;36mDataFrame._repr_html_\u001B[1;34m(self)\u001B[0m\n\u001B[0;32m   1234\u001B[0m     show_dimensions \u001B[38;5;241m=\u001B[39m get_option(\u001B[38;5;124m\"\u001B[39m\u001B[38;5;124mdisplay.show_dimensions\u001B[39m\u001B[38;5;124m\"\u001B[39m)\n\u001B[0;32m   1236\u001B[0m     formatter \u001B[38;5;241m=\u001B[39m fmt\u001B[38;5;241m.\u001B[39mDataFrameFormatter(\n\u001B[0;32m   1237\u001B[0m         \u001B[38;5;28mself\u001B[39m,\n\u001B[0;32m   1238\u001B[0m         columns\u001B[38;5;241m=\u001B[39m\u001B[38;5;28;01mNone\u001B[39;00m,\n\u001B[1;32m   (...)\u001B[0m\n\u001B[0;32m   1254\u001B[0m         decimal\u001B[38;5;241m=\u001B[39m\u001B[38;5;124m\"\u001B[39m\u001B[38;5;124m.\u001B[39m\u001B[38;5;124m\"\u001B[39m,\n\u001B[0;32m   1255\u001B[0m     )\n\u001B[1;32m-> 1256\u001B[0m     \u001B[38;5;28;01mreturn\u001B[39;00m \u001B[43mfmt\u001B[49m\u001B[38;5;241;43m.\u001B[39;49m\u001B[43mDataFrameRenderer\u001B[49m\u001B[43m(\u001B[49m\u001B[43mformatter\u001B[49m\u001B[43m)\u001B[49m\u001B[38;5;241;43m.\u001B[39;49m\u001B[43mto_html\u001B[49m\u001B[43m(\u001B[49m\u001B[43mnotebook\u001B[49m\u001B[38;5;241;43m=\u001B[39;49m\u001B[38;5;28;43;01mTrue\u001B[39;49;00m\u001B[43m)\u001B[49m\n\u001B[0;32m   1257\u001B[0m \u001B[38;5;28;01melse\u001B[39;00m:\n\u001B[0;32m   1258\u001B[0m     \u001B[38;5;28;01mreturn\u001B[39;00m \u001B[38;5;28;01mNone\u001B[39;00m\n",
      "File \u001B[1;32mD:\\codes\\Pycharm\\stock-insight\\.venv\\Lib\\site-packages\\pandas\\io\\formats\\format.py:929\u001B[0m, in \u001B[0;36mDataFrameRenderer.to_html\u001B[1;34m(self, buf, encoding, classes, notebook, border, table_id, render_links)\u001B[0m\n\u001B[0;32m    922\u001B[0m \u001B[38;5;28;01mfrom\u001B[39;00m\u001B[38;5;250m \u001B[39m\u001B[38;5;21;01mpandas\u001B[39;00m\u001B[38;5;21;01m.\u001B[39;00m\u001B[38;5;21;01mio\u001B[39;00m\u001B[38;5;21;01m.\u001B[39;00m\u001B[38;5;21;01mformats\u001B[39;00m\u001B[38;5;21;01m.\u001B[39;00m\u001B[38;5;21;01mhtml\u001B[39;00m\u001B[38;5;250m \u001B[39m\u001B[38;5;28;01mimport\u001B[39;00m (\n\u001B[0;32m    923\u001B[0m     HTMLFormatter,\n\u001B[0;32m    924\u001B[0m     NotebookFormatter,\n\u001B[0;32m    925\u001B[0m )\n\u001B[0;32m    927\u001B[0m Klass \u001B[38;5;241m=\u001B[39m NotebookFormatter \u001B[38;5;28;01mif\u001B[39;00m notebook \u001B[38;5;28;01melse\u001B[39;00m HTMLFormatter\n\u001B[1;32m--> 929\u001B[0m html_formatter \u001B[38;5;241m=\u001B[39m \u001B[43mKlass\u001B[49m\u001B[43m(\u001B[49m\n\u001B[0;32m    930\u001B[0m \u001B[43m    \u001B[49m\u001B[38;5;28;43mself\u001B[39;49m\u001B[38;5;241;43m.\u001B[39;49m\u001B[43mfmt\u001B[49m\u001B[43m,\u001B[49m\n\u001B[0;32m    931\u001B[0m \u001B[43m    \u001B[49m\u001B[43mclasses\u001B[49m\u001B[38;5;241;43m=\u001B[39;49m\u001B[43mclasses\u001B[49m\u001B[43m,\u001B[49m\n\u001B[0;32m    932\u001B[0m \u001B[43m    \u001B[49m\u001B[43mborder\u001B[49m\u001B[38;5;241;43m=\u001B[39;49m\u001B[43mborder\u001B[49m\u001B[43m,\u001B[49m\n\u001B[0;32m    933\u001B[0m \u001B[43m    \u001B[49m\u001B[43mtable_id\u001B[49m\u001B[38;5;241;43m=\u001B[39;49m\u001B[43mtable_id\u001B[49m\u001B[43m,\u001B[49m\n\u001B[0;32m    934\u001B[0m \u001B[43m    \u001B[49m\u001B[43mrender_links\u001B[49m\u001B[38;5;241;43m=\u001B[39;49m\u001B[43mrender_links\u001B[49m\u001B[43m,\u001B[49m\n\u001B[0;32m    935\u001B[0m \u001B[43m\u001B[49m\u001B[43m)\u001B[49m\n\u001B[0;32m    936\u001B[0m string \u001B[38;5;241m=\u001B[39m html_formatter\u001B[38;5;241m.\u001B[39mto_string()\n\u001B[0;32m    937\u001B[0m \u001B[38;5;28;01mreturn\u001B[39;00m save_to_buffer(string, buf\u001B[38;5;241m=\u001B[39mbuf, encoding\u001B[38;5;241m=\u001B[39mencoding)\n",
      "File \u001B[1;32mD:\\codes\\Pycharm\\stock-insight\\.venv\\Lib\\site-packages\\pandas\\io\\formats\\html.py:68\u001B[0m, in \u001B[0;36mHTMLFormatter.__init__\u001B[1;34m(self, formatter, classes, border, table_id, render_links)\u001B[0m\n\u001B[0;32m     66\u001B[0m \u001B[38;5;28mself\u001B[39m\u001B[38;5;241m.\u001B[39mshow_dimensions \u001B[38;5;241m=\u001B[39m \u001B[38;5;28mself\u001B[39m\u001B[38;5;241m.\u001B[39mfmt\u001B[38;5;241m.\u001B[39mshow_dimensions\n\u001B[0;32m     67\u001B[0m \u001B[38;5;28;01mif\u001B[39;00m border \u001B[38;5;129;01mis\u001B[39;00m \u001B[38;5;28;01mNone\u001B[39;00m \u001B[38;5;129;01mor\u001B[39;00m border \u001B[38;5;129;01mis\u001B[39;00m \u001B[38;5;28;01mTrue\u001B[39;00m:\n\u001B[1;32m---> 68\u001B[0m     border \u001B[38;5;241m=\u001B[39m cast(\u001B[38;5;28mint\u001B[39m, \u001B[43mget_option\u001B[49m\u001B[43m(\u001B[49m\u001B[38;5;124;43m\"\u001B[39;49m\u001B[38;5;124;43mfunc.html.border\u001B[39;49m\u001B[38;5;124;43m\"\u001B[39;49m\u001B[43m)\u001B[49m)\n\u001B[0;32m     69\u001B[0m \u001B[38;5;28;01melif\u001B[39;00m \u001B[38;5;129;01mnot\u001B[39;00m border:\n\u001B[0;32m     70\u001B[0m     border \u001B[38;5;241m=\u001B[39m \u001B[38;5;28;01mNone\u001B[39;00m\n",
      "File \u001B[1;32mD:\\codes\\Pycharm\\stock-insight\\.venv\\Lib\\site-packages\\pandas\\_config\\config.py:274\u001B[0m, in \u001B[0;36mCallableDynamicDoc.__call__\u001B[1;34m(self, *args, **kwds)\u001B[0m\n\u001B[0;32m    273\u001B[0m \u001B[38;5;28;01mdef\u001B[39;00m\u001B[38;5;250m \u001B[39m\u001B[38;5;21m__call__\u001B[39m(\u001B[38;5;28mself\u001B[39m, \u001B[38;5;241m*\u001B[39margs, \u001B[38;5;241m*\u001B[39m\u001B[38;5;241m*\u001B[39mkwds) \u001B[38;5;241m-\u001B[39m\u001B[38;5;241m>\u001B[39m T:\n\u001B[1;32m--> 274\u001B[0m     \u001B[38;5;28;01mreturn\u001B[39;00m \u001B[38;5;28;43mself\u001B[39;49m\u001B[38;5;241;43m.\u001B[39;49m\u001B[38;5;18;43m__func__\u001B[39;49m\u001B[43m(\u001B[49m\u001B[38;5;241;43m*\u001B[39;49m\u001B[43margs\u001B[49m\u001B[43m,\u001B[49m\u001B[43m \u001B[49m\u001B[38;5;241;43m*\u001B[39;49m\u001B[38;5;241;43m*\u001B[39;49m\u001B[43mkwds\u001B[49m\u001B[43m)\u001B[49m\n",
      "File \u001B[1;32mD:\\codes\\Pycharm\\stock-insight\\.venv\\Lib\\site-packages\\pandas\\_config\\config.py:146\u001B[0m, in \u001B[0;36m_get_option\u001B[1;34m(pat, silent)\u001B[0m\n\u001B[0;32m    145\u001B[0m \u001B[38;5;28;01mdef\u001B[39;00m\u001B[38;5;250m \u001B[39m\u001B[38;5;21m_get_option\u001B[39m(pat: \u001B[38;5;28mstr\u001B[39m, silent: \u001B[38;5;28mbool\u001B[39m \u001B[38;5;241m=\u001B[39m \u001B[38;5;28;01mFalse\u001B[39;00m) \u001B[38;5;241m-\u001B[39m\u001B[38;5;241m>\u001B[39m Any:\n\u001B[1;32m--> 146\u001B[0m     key \u001B[38;5;241m=\u001B[39m \u001B[43m_get_single_key\u001B[49m\u001B[43m(\u001B[49m\u001B[43mpat\u001B[49m\u001B[43m,\u001B[49m\u001B[43m \u001B[49m\u001B[43msilent\u001B[49m\u001B[43m)\u001B[49m\n\u001B[0;32m    148\u001B[0m     \u001B[38;5;66;03m# walk the nested dict\u001B[39;00m\n\u001B[0;32m    149\u001B[0m     root, k \u001B[38;5;241m=\u001B[39m _get_root(key)\n",
      "File \u001B[1;32mD:\\codes\\Pycharm\\stock-insight\\.venv\\Lib\\site-packages\\pandas\\_config\\config.py:132\u001B[0m, in \u001B[0;36m_get_single_key\u001B[1;34m(pat, silent)\u001B[0m\n\u001B[0;32m    130\u001B[0m     \u001B[38;5;28;01mif\u001B[39;00m \u001B[38;5;129;01mnot\u001B[39;00m silent:\n\u001B[0;32m    131\u001B[0m         _warn_if_deprecated(pat)\n\u001B[1;32m--> 132\u001B[0m     \u001B[38;5;28;01mraise\u001B[39;00m OptionError(\u001B[38;5;124mf\u001B[39m\u001B[38;5;124m\"\u001B[39m\u001B[38;5;124mNo such keys(s): \u001B[39m\u001B[38;5;132;01m{\u001B[39;00m\u001B[38;5;28mrepr\u001B[39m(pat)\u001B[38;5;132;01m}\u001B[39;00m\u001B[38;5;124m\"\u001B[39m)\n\u001B[0;32m    133\u001B[0m \u001B[38;5;28;01mif\u001B[39;00m \u001B[38;5;28mlen\u001B[39m(keys) \u001B[38;5;241m>\u001B[39m \u001B[38;5;241m1\u001B[39m:\n\u001B[0;32m    134\u001B[0m     \u001B[38;5;28;01mraise\u001B[39;00m OptionError(\u001B[38;5;124m\"\u001B[39m\u001B[38;5;124mPattern matched multiple keys\u001B[39m\u001B[38;5;124m\"\u001B[39m)\n",
      "\u001B[1;31mOptionError\u001B[0m: No such keys(s): 'func.html.border'"
     ]
    },
    {
     "data": {
      "text/plain": [
       "         代码    名称        最新价     涨跌额    涨跌幅         昨收        今开         最高  \\\n",
       "0  sh000001  上证指数  3255.7386  26.251  0.813  3229.4876  3226.575  3266.1383   \n",
       "\n",
       "          最低        成交量           成交额  \n",
       "0  3225.8459  292788190  375835119418  "
      ]
     },
     "metadata": {},
     "output_type": "display_data"
    }
   ],
   "execution_count": 5
  },
  {
   "metadata": {
    "ExecuteTime": {
     "end_time": "2025-02-06T05:04:08.790620Z",
     "start_time": "2025-02-06T05:04:07.122762Z"
    }
   },
   "cell_type": "code",
   "source": [
    "# 东财获取指数的方法\n",
    "import akshare as ak\n",
    "df = ak.stock_zh_index_spot_em(symbol=\"沪深重要指数\")\n",
    "display(df)"
   ],
   "id": "420be6c7c2f42b33",
   "outputs": [
    {
     "ename": "OptionError",
     "evalue": "No such keys(s): 'func.html.border'",
     "output_type": "error",
     "traceback": [
      "\u001B[1;31m---------------------------------------------------------------------------\u001B[0m",
      "\u001B[1;31mOptionError\u001B[0m                               Traceback (most recent call last)",
      "File \u001B[1;32mD:\\codes\\Pycharm\\stock-insight\\.venv\\Lib\\site-packages\\IPython\\core\\formatters.py:406\u001B[0m, in \u001B[0;36mBaseFormatter.__call__\u001B[1;34m(self, obj)\u001B[0m\n\u001B[0;32m    404\u001B[0m     method \u001B[38;5;241m=\u001B[39m get_real_method(obj, \u001B[38;5;28mself\u001B[39m\u001B[38;5;241m.\u001B[39mprint_method)\n\u001B[0;32m    405\u001B[0m     \u001B[38;5;28;01mif\u001B[39;00m method \u001B[38;5;129;01mis\u001B[39;00m \u001B[38;5;129;01mnot\u001B[39;00m \u001B[38;5;28;01mNone\u001B[39;00m:\n\u001B[1;32m--> 406\u001B[0m         \u001B[38;5;28;01mreturn\u001B[39;00m \u001B[43mmethod\u001B[49m\u001B[43m(\u001B[49m\u001B[43m)\u001B[49m\n\u001B[0;32m    407\u001B[0m     \u001B[38;5;28;01mreturn\u001B[39;00m \u001B[38;5;28;01mNone\u001B[39;00m\n\u001B[0;32m    408\u001B[0m \u001B[38;5;28;01melse\u001B[39;00m:\n",
      "File \u001B[1;32mD:\\codes\\Pycharm\\stock-insight\\.venv\\Lib\\site-packages\\pandas\\core\\frame.py:1256\u001B[0m, in \u001B[0;36mDataFrame._repr_html_\u001B[1;34m(self)\u001B[0m\n\u001B[0;32m   1234\u001B[0m     show_dimensions \u001B[38;5;241m=\u001B[39m get_option(\u001B[38;5;124m\"\u001B[39m\u001B[38;5;124mdisplay.show_dimensions\u001B[39m\u001B[38;5;124m\"\u001B[39m)\n\u001B[0;32m   1236\u001B[0m     formatter \u001B[38;5;241m=\u001B[39m fmt\u001B[38;5;241m.\u001B[39mDataFrameFormatter(\n\u001B[0;32m   1237\u001B[0m         \u001B[38;5;28mself\u001B[39m,\n\u001B[0;32m   1238\u001B[0m         columns\u001B[38;5;241m=\u001B[39m\u001B[38;5;28;01mNone\u001B[39;00m,\n\u001B[1;32m   (...)\u001B[0m\n\u001B[0;32m   1254\u001B[0m         decimal\u001B[38;5;241m=\u001B[39m\u001B[38;5;124m\"\u001B[39m\u001B[38;5;124m.\u001B[39m\u001B[38;5;124m\"\u001B[39m,\n\u001B[0;32m   1255\u001B[0m     )\n\u001B[1;32m-> 1256\u001B[0m     \u001B[38;5;28;01mreturn\u001B[39;00m \u001B[43mfmt\u001B[49m\u001B[38;5;241;43m.\u001B[39;49m\u001B[43mDataFrameRenderer\u001B[49m\u001B[43m(\u001B[49m\u001B[43mformatter\u001B[49m\u001B[43m)\u001B[49m\u001B[38;5;241;43m.\u001B[39;49m\u001B[43mto_html\u001B[49m\u001B[43m(\u001B[49m\u001B[43mnotebook\u001B[49m\u001B[38;5;241;43m=\u001B[39;49m\u001B[38;5;28;43;01mTrue\u001B[39;49;00m\u001B[43m)\u001B[49m\n\u001B[0;32m   1257\u001B[0m \u001B[38;5;28;01melse\u001B[39;00m:\n\u001B[0;32m   1258\u001B[0m     \u001B[38;5;28;01mreturn\u001B[39;00m \u001B[38;5;28;01mNone\u001B[39;00m\n",
      "File \u001B[1;32mD:\\codes\\Pycharm\\stock-insight\\.venv\\Lib\\site-packages\\pandas\\io\\formats\\format.py:929\u001B[0m, in \u001B[0;36mDataFrameRenderer.to_html\u001B[1;34m(self, buf, encoding, classes, notebook, border, table_id, render_links)\u001B[0m\n\u001B[0;32m    922\u001B[0m \u001B[38;5;28;01mfrom\u001B[39;00m\u001B[38;5;250m \u001B[39m\u001B[38;5;21;01mpandas\u001B[39;00m\u001B[38;5;21;01m.\u001B[39;00m\u001B[38;5;21;01mio\u001B[39;00m\u001B[38;5;21;01m.\u001B[39;00m\u001B[38;5;21;01mformats\u001B[39;00m\u001B[38;5;21;01m.\u001B[39;00m\u001B[38;5;21;01mhtml\u001B[39;00m\u001B[38;5;250m \u001B[39m\u001B[38;5;28;01mimport\u001B[39;00m (\n\u001B[0;32m    923\u001B[0m     HTMLFormatter,\n\u001B[0;32m    924\u001B[0m     NotebookFormatter,\n\u001B[0;32m    925\u001B[0m )\n\u001B[0;32m    927\u001B[0m Klass \u001B[38;5;241m=\u001B[39m NotebookFormatter \u001B[38;5;28;01mif\u001B[39;00m notebook \u001B[38;5;28;01melse\u001B[39;00m HTMLFormatter\n\u001B[1;32m--> 929\u001B[0m html_formatter \u001B[38;5;241m=\u001B[39m \u001B[43mKlass\u001B[49m\u001B[43m(\u001B[49m\n\u001B[0;32m    930\u001B[0m \u001B[43m    \u001B[49m\u001B[38;5;28;43mself\u001B[39;49m\u001B[38;5;241;43m.\u001B[39;49m\u001B[43mfmt\u001B[49m\u001B[43m,\u001B[49m\n\u001B[0;32m    931\u001B[0m \u001B[43m    \u001B[49m\u001B[43mclasses\u001B[49m\u001B[38;5;241;43m=\u001B[39;49m\u001B[43mclasses\u001B[49m\u001B[43m,\u001B[49m\n\u001B[0;32m    932\u001B[0m \u001B[43m    \u001B[49m\u001B[43mborder\u001B[49m\u001B[38;5;241;43m=\u001B[39;49m\u001B[43mborder\u001B[49m\u001B[43m,\u001B[49m\n\u001B[0;32m    933\u001B[0m \u001B[43m    \u001B[49m\u001B[43mtable_id\u001B[49m\u001B[38;5;241;43m=\u001B[39;49m\u001B[43mtable_id\u001B[49m\u001B[43m,\u001B[49m\n\u001B[0;32m    934\u001B[0m \u001B[43m    \u001B[49m\u001B[43mrender_links\u001B[49m\u001B[38;5;241;43m=\u001B[39;49m\u001B[43mrender_links\u001B[49m\u001B[43m,\u001B[49m\n\u001B[0;32m    935\u001B[0m \u001B[43m\u001B[49m\u001B[43m)\u001B[49m\n\u001B[0;32m    936\u001B[0m string \u001B[38;5;241m=\u001B[39m html_formatter\u001B[38;5;241m.\u001B[39mto_string()\n\u001B[0;32m    937\u001B[0m \u001B[38;5;28;01mreturn\u001B[39;00m save_to_buffer(string, buf\u001B[38;5;241m=\u001B[39mbuf, encoding\u001B[38;5;241m=\u001B[39mencoding)\n",
      "File \u001B[1;32mD:\\codes\\Pycharm\\stock-insight\\.venv\\Lib\\site-packages\\pandas\\io\\formats\\html.py:68\u001B[0m, in \u001B[0;36mHTMLFormatter.__init__\u001B[1;34m(self, formatter, classes, border, table_id, render_links)\u001B[0m\n\u001B[0;32m     66\u001B[0m \u001B[38;5;28mself\u001B[39m\u001B[38;5;241m.\u001B[39mshow_dimensions \u001B[38;5;241m=\u001B[39m \u001B[38;5;28mself\u001B[39m\u001B[38;5;241m.\u001B[39mfmt\u001B[38;5;241m.\u001B[39mshow_dimensions\n\u001B[0;32m     67\u001B[0m \u001B[38;5;28;01mif\u001B[39;00m border \u001B[38;5;129;01mis\u001B[39;00m \u001B[38;5;28;01mNone\u001B[39;00m \u001B[38;5;129;01mor\u001B[39;00m border \u001B[38;5;129;01mis\u001B[39;00m \u001B[38;5;28;01mTrue\u001B[39;00m:\n\u001B[1;32m---> 68\u001B[0m     border \u001B[38;5;241m=\u001B[39m cast(\u001B[38;5;28mint\u001B[39m, \u001B[43mget_option\u001B[49m\u001B[43m(\u001B[49m\u001B[38;5;124;43m\"\u001B[39;49m\u001B[38;5;124;43mfunc.html.border\u001B[39;49m\u001B[38;5;124;43m\"\u001B[39;49m\u001B[43m)\u001B[49m)\n\u001B[0;32m     69\u001B[0m \u001B[38;5;28;01melif\u001B[39;00m \u001B[38;5;129;01mnot\u001B[39;00m border:\n\u001B[0;32m     70\u001B[0m     border \u001B[38;5;241m=\u001B[39m \u001B[38;5;28;01mNone\u001B[39;00m\n",
      "File \u001B[1;32mD:\\codes\\Pycharm\\stock-insight\\.venv\\Lib\\site-packages\\pandas\\_config\\config.py:274\u001B[0m, in \u001B[0;36mCallableDynamicDoc.__call__\u001B[1;34m(self, *args, **kwds)\u001B[0m\n\u001B[0;32m    273\u001B[0m \u001B[38;5;28;01mdef\u001B[39;00m\u001B[38;5;250m \u001B[39m\u001B[38;5;21m__call__\u001B[39m(\u001B[38;5;28mself\u001B[39m, \u001B[38;5;241m*\u001B[39margs, \u001B[38;5;241m*\u001B[39m\u001B[38;5;241m*\u001B[39mkwds) \u001B[38;5;241m-\u001B[39m\u001B[38;5;241m>\u001B[39m T:\n\u001B[1;32m--> 274\u001B[0m     \u001B[38;5;28;01mreturn\u001B[39;00m \u001B[38;5;28;43mself\u001B[39;49m\u001B[38;5;241;43m.\u001B[39;49m\u001B[38;5;18;43m__func__\u001B[39;49m\u001B[43m(\u001B[49m\u001B[38;5;241;43m*\u001B[39;49m\u001B[43margs\u001B[49m\u001B[43m,\u001B[49m\u001B[43m \u001B[49m\u001B[38;5;241;43m*\u001B[39;49m\u001B[38;5;241;43m*\u001B[39;49m\u001B[43mkwds\u001B[49m\u001B[43m)\u001B[49m\n",
      "File \u001B[1;32mD:\\codes\\Pycharm\\stock-insight\\.venv\\Lib\\site-packages\\pandas\\_config\\config.py:146\u001B[0m, in \u001B[0;36m_get_option\u001B[1;34m(pat, silent)\u001B[0m\n\u001B[0;32m    145\u001B[0m \u001B[38;5;28;01mdef\u001B[39;00m\u001B[38;5;250m \u001B[39m\u001B[38;5;21m_get_option\u001B[39m(pat: \u001B[38;5;28mstr\u001B[39m, silent: \u001B[38;5;28mbool\u001B[39m \u001B[38;5;241m=\u001B[39m \u001B[38;5;28;01mFalse\u001B[39;00m) \u001B[38;5;241m-\u001B[39m\u001B[38;5;241m>\u001B[39m Any:\n\u001B[1;32m--> 146\u001B[0m     key \u001B[38;5;241m=\u001B[39m \u001B[43m_get_single_key\u001B[49m\u001B[43m(\u001B[49m\u001B[43mpat\u001B[49m\u001B[43m,\u001B[49m\u001B[43m \u001B[49m\u001B[43msilent\u001B[49m\u001B[43m)\u001B[49m\n\u001B[0;32m    148\u001B[0m     \u001B[38;5;66;03m# walk the nested dict\u001B[39;00m\n\u001B[0;32m    149\u001B[0m     root, k \u001B[38;5;241m=\u001B[39m _get_root(key)\n",
      "File \u001B[1;32mD:\\codes\\Pycharm\\stock-insight\\.venv\\Lib\\site-packages\\pandas\\_config\\config.py:132\u001B[0m, in \u001B[0;36m_get_single_key\u001B[1;34m(pat, silent)\u001B[0m\n\u001B[0;32m    130\u001B[0m     \u001B[38;5;28;01mif\u001B[39;00m \u001B[38;5;129;01mnot\u001B[39;00m silent:\n\u001B[0;32m    131\u001B[0m         _warn_if_deprecated(pat)\n\u001B[1;32m--> 132\u001B[0m     \u001B[38;5;28;01mraise\u001B[39;00m OptionError(\u001B[38;5;124mf\u001B[39m\u001B[38;5;124m\"\u001B[39m\u001B[38;5;124mNo such keys(s): \u001B[39m\u001B[38;5;132;01m{\u001B[39;00m\u001B[38;5;28mrepr\u001B[39m(pat)\u001B[38;5;132;01m}\u001B[39;00m\u001B[38;5;124m\"\u001B[39m)\n\u001B[0;32m    133\u001B[0m \u001B[38;5;28;01mif\u001B[39;00m \u001B[38;5;28mlen\u001B[39m(keys) \u001B[38;5;241m>\u001B[39m \u001B[38;5;241m1\u001B[39m:\n\u001B[0;32m    134\u001B[0m     \u001B[38;5;28;01mraise\u001B[39;00m OptionError(\u001B[38;5;124m\"\u001B[39m\u001B[38;5;124mPattern matched multiple keys\u001B[39m\u001B[38;5;124m\"\u001B[39m)\n",
      "\u001B[1;31mOptionError\u001B[0m: No such keys(s): 'func.html.border'"
     ]
    },
    {
     "data": {
      "text/plain": [
       "    序号      代码       名称       最新价   涨跌幅     涨跌额        成交量           成交额  \\\n",
       "0    1  000001     上证指数   3253.85  0.75   24.36  291118496  3.733979e+11   \n",
       "1    2  399001     深证成指  10323.98  1.57  159.76  450444299  5.980837e+11   \n",
       "2    3  899050     北证50   1101.77  2.93   31.39    5256615  1.078070e+10   \n",
       "3    4  399006     创业板指   2107.71  2.17   44.79  156916977  2.961697e+11   \n",
       "4    5  000680     科创综指   1153.15  2.66   29.93   24349785  9.729676e+10   \n",
       "5    6  000688     科创50   1004.53  2.21   21.70   24349785  9.729676e+10   \n",
       "6    7  399750    深主板50   8238.57  0.62   50.50   21380557  4.048810e+10   \n",
       "7    8  000300    沪深300   3822.39  0.72   27.31  104117323  2.329867e+11   \n",
       "8    9  000016     上证50   2570.83  0.35    8.89   25051173  5.538496e+10   \n",
       "9   10  399850     深证50   7156.84  1.22   86.13   23634640  8.048583e+10   \n",
       "10  11  000888  上证综合全收益   3637.23  0.75   27.24  291118496  3.733979e+11   \n",
       "11  12  399005    中小100   6438.11  1.88  118.70   28490958  6.313638e+10   \n",
       "12  13  930050    中证A50   1523.25  0.75   11.31   22090989  6.718589e+10   \n",
       "13  14  000903   中证A100   3632.46  0.78   27.99   46557539  1.223982e+11   \n",
       "14  15  000510   中证A500   4515.41  1.06   47.17  181481222  3.363874e+11   \n",
       "15  16  000904    中证200   4527.72  1.07   47.79   55722721  1.292518e+11   \n",
       "16  17  000905    中证500   5715.35  1.80  100.96  116679107  1.645222e+11   \n",
       "17  18  000906    中证800   4134.31  1.00   40.82  220796429  3.975089e+11   \n",
       "18  19  000852   中证1000   6003.32  2.07  121.88  167377913  2.348300e+11   \n",
       "19  20  932000   中证2000   2400.11  1.91   45.04  214721774  2.396606e+11   \n",
       "20  21  000985     中证全指   4699.17  1.29   59.97  729057011  9.628935e+11   \n",
       "21  22  000010    上证180   8383.75  0.58   48.56   64617247  1.183461e+11   \n",
       "22  23  000009    上证380   5370.88  1.32   70.12   43847576  7.710996e+10   \n",
       "23  24  000132    上证100   5122.27  1.37   69.12    7383263  1.883966e+10   \n",
       "24  25  000133    上证150   4620.01  2.74  123.22   10552581  1.767306e+10   \n",
       "25  26  000003     Ｂ股指数    264.47  0.60    1.57     147468  6.032751e+07   \n",
       "26  27  000012     国债指数    224.12  0.05    0.12    2149831  2.309349e+09   \n",
       "27  28  000013     企债指数    295.05  0.01    0.04     522120  4.779496e+08   \n",
       "28  29  000011     基金指数   6775.55  1.03   68.92  672419069  1.048679e+11   \n",
       "29  30  399002     深成指R  13616.76  1.57  210.70  293437982  3.018801e+11   \n",
       "30  31  399003     成份Ｂ指   7909.64  0.60   47.43      89341  3.384662e+07   \n",
       "31  32  399106     深证综指   1949.98  1.58   30.39  450444299  5.980837e+11   \n",
       "32  33  399004   深证100R   6363.52  1.21   76.25   34687307  1.093550e+11   \n",
       "33  34  399007    深证300   4332.24  1.45   61.72   81304764  1.932142e+11   \n",
       "34  35  399008    中小300   1290.25  1.85   23.49   85941756  1.232192e+11   \n",
       "35  36  399293     创业大盘   3976.16  2.43   94.39   14836119  6.468949e+10   \n",
       "36  37  399019    创业200   3632.62  3.10  109.28   47764916  8.072275e+10   \n",
       "37  38  399020     创业小盘   1423.43  2.96   40.97   38996987  6.336053e+10   \n",
       "38  39  399100      新指数   9178.87  1.56  140.64  441891304  5.944982e+11   \n",
       "39  40  399550     央视50   7179.01  0.55   39.05   13999378  3.524581e+10   \n",
       "\n",
       "      振幅        最高        最低        今开        昨收    量比  \n",
       "0   1.25   3266.14   3225.85   3226.58   3229.49  1.39  \n",
       "1   2.22  10360.86  10135.15  10142.85  10164.22  1.50  \n",
       "2   4.27   1106.35   1060.61   1067.62   1070.38  1.62  \n",
       "3   3.07   2119.46   2056.18   2059.45   2062.92  1.57  \n",
       "4   3.73   1158.61   1116.66   1119.32   1123.22  1.73  \n",
       "5   3.82   1012.88    975.37    977.02    982.83  1.73  \n",
       "6   1.47   8266.26   8146.17   8164.53   8188.07  1.32  \n",
       "7   1.38   3840.78   3788.32   3789.61   3795.08  1.30  \n",
       "8   1.20   2585.29   2554.48   2559.83   2561.94  1.14  \n",
       "9   1.96   7189.08   7050.24   7056.01   7070.71  1.37  \n",
       "10  1.25   3650.96   3605.92   3606.74   3609.99  1.39  \n",
       "11  2.24   6440.86   6299.39   6299.86   6319.41  1.60  \n",
       "12  1.52   1531.46   1508.45   1509.00   1511.94  1.23  \n",
       "13  1.53   3652.10   3597.00   3598.51   3604.47  1.33  \n",
       "14  1.66   4534.85   4460.47   4462.06   4468.24  1.51  \n",
       "15  1.76   4548.24   4469.45   4470.64   4479.93  1.49  \n",
       "16  2.42   5733.04   5597.32   5606.87   5614.39  1.58  \n",
       "17  1.60   4152.35   4086.96   4087.69   4093.49  1.43  \n",
       "18  2.83   6019.91   5853.75   5869.71   5881.44  1.59  \n",
       "19  2.53   2403.22   2343.68   2350.21   2355.07  1.38  \n",
       "20  1.89   4714.98   4627.33   4631.98   4639.20  1.46  \n",
       "21  1.27   8426.56   8320.44   8327.14   8335.19  1.25  \n",
       "22  1.93   5388.11   5285.61   5291.90   5300.76  1.49  \n",
       "23  1.88   5136.87   5042.10   5043.05   5053.15  1.74  \n",
       "24  3.16   4629.85   4487.53   4493.03   4496.79  1.50  \n",
       "25  0.79    264.50    262.43    262.93    262.90  1.29  \n",
       "26  0.05    224.14    224.02    224.02    224.00  0.91  \n",
       "27  0.00    295.05    295.04    295.04    295.01  0.31  \n",
       "28  1.59   6804.09   6697.56   6699.84   6706.63  1.35  \n",
       "29  2.22  13665.40  13367.71  13377.86  13406.06  1.46  \n",
       "30  0.68   7915.16   7861.93   7888.32   7862.21  0.95  \n",
       "31  2.20   1955.11   1912.94   1915.61   1919.59  1.50  \n",
       "32  1.92   6390.68   6269.95   6272.50   6287.27  1.37  \n",
       "33  2.07   4348.68   4260.11   4262.02   4270.52  1.49  \n",
       "34  2.26   1291.94   1263.31   1263.75   1266.76  1.61  \n",
       "35  3.30   4002.14   3874.14   3880.04   3881.77  1.86  \n",
       "36  4.14   3640.71   3494.74   3507.00   3523.34  1.69  \n",
       "37  3.33   1423.69   1377.65   1382.82   1382.46  1.76  \n",
       "38  2.17   9204.32   9007.91   9020.40   9038.23  1.51  \n",
       "39  1.34   7219.38   7124.00   7124.96   7139.96  1.10  "
      ]
     },
     "metadata": {},
     "output_type": "display_data"
    }
   ],
   "execution_count": 1
  },
  {
   "metadata": {},
   "cell_type": "code",
   "source": [
    "# sina获取指数的方法\n",
    "display(df.columns)\n",
    "print(df.dtypes)"
   ],
   "id": "339b7903898c0679",
   "outputs": [],
   "execution_count": null
  },
  {
   "metadata": {},
   "cell_type": "markdown",
   "source": [
    "## 2.2 获取指数 数据\n",
    "\n",
    "接口: index_zh_a_hist\n",
    "\n",
    "目标地址: http://quote.eastmoney.com/center/hszs.html\n",
    "\n",
    "描述: 东方财富网-中国股票指数-行情数据\n",
    "\n",
    "限量: 单次返回具体指数指定 period 从 start_date 到 end_date 的之间的近期数据\n",
    "\n",
    "输入参数\n",
    "\n",
    "| 名称        | 类型   | 描述                                         |\n",
    "|-------------|--------|----------------------------------------------|\n",
    "| symbol      | str    | symbol=\"399282\"; 指数代码，此处不用市场标识   |\n",
    "| period      | str    | period=\"daily\"; choice of {'daily', 'weekly', 'monthly'} |\n",
    "| start_date  | str    | start_date=\"19700101\"; 开始日期               |\n",
    "| end_date    | str    | end_date=\"22220101\"; 结束时间                 |\n",
    "\n"
   ],
   "id": "5c9b5b2810f7d9e8"
  },
  {
   "metadata": {
    "ExecuteTime": {
     "end_time": "2025-02-06T05:12:56.349684Z",
     "start_time": "2025-02-06T05:12:55.752432Z"
    }
   },
   "cell_type": "code",
   "source": [
    "import akshare as ak\n",
    "from django.contrib.admin import display\n",
    "index_zh_a_hist_df = ak.index_zh_a_hist(symbol=\"899050\", period=\"daily\", start_date=\"20250103\", end_date=\"20900101\")\n",
    "display(index_zh_a_hist_df)"
   ],
   "id": "633033e8ec7c01f6",
   "outputs": [
    {
     "ename": "OptionError",
     "evalue": "No such keys(s): 'func.html.border'",
     "output_type": "error",
     "traceback": [
      "\u001B[1;31m---------------------------------------------------------------------------\u001B[0m",
      "\u001B[1;31mOptionError\u001B[0m                               Traceback (most recent call last)",
      "File \u001B[1;32mD:\\codes\\Pycharm\\stock-insight\\.venv\\Lib\\site-packages\\IPython\\core\\formatters.py:406\u001B[0m, in \u001B[0;36mBaseFormatter.__call__\u001B[1;34m(self, obj)\u001B[0m\n\u001B[0;32m    404\u001B[0m     method \u001B[38;5;241m=\u001B[39m get_real_method(obj, \u001B[38;5;28mself\u001B[39m\u001B[38;5;241m.\u001B[39mprint_method)\n\u001B[0;32m    405\u001B[0m     \u001B[38;5;28;01mif\u001B[39;00m method \u001B[38;5;129;01mis\u001B[39;00m \u001B[38;5;129;01mnot\u001B[39;00m \u001B[38;5;28;01mNone\u001B[39;00m:\n\u001B[1;32m--> 406\u001B[0m         \u001B[38;5;28;01mreturn\u001B[39;00m \u001B[43mmethod\u001B[49m\u001B[43m(\u001B[49m\u001B[43m)\u001B[49m\n\u001B[0;32m    407\u001B[0m     \u001B[38;5;28;01mreturn\u001B[39;00m \u001B[38;5;28;01mNone\u001B[39;00m\n\u001B[0;32m    408\u001B[0m \u001B[38;5;28;01melse\u001B[39;00m:\n",
      "File \u001B[1;32mD:\\codes\\Pycharm\\stock-insight\\.venv\\Lib\\site-packages\\pandas\\core\\frame.py:1256\u001B[0m, in \u001B[0;36mDataFrame._repr_html_\u001B[1;34m(self)\u001B[0m\n\u001B[0;32m   1234\u001B[0m     show_dimensions \u001B[38;5;241m=\u001B[39m get_option(\u001B[38;5;124m\"\u001B[39m\u001B[38;5;124mdisplay.show_dimensions\u001B[39m\u001B[38;5;124m\"\u001B[39m)\n\u001B[0;32m   1236\u001B[0m     formatter \u001B[38;5;241m=\u001B[39m fmt\u001B[38;5;241m.\u001B[39mDataFrameFormatter(\n\u001B[0;32m   1237\u001B[0m         \u001B[38;5;28mself\u001B[39m,\n\u001B[0;32m   1238\u001B[0m         columns\u001B[38;5;241m=\u001B[39m\u001B[38;5;28;01mNone\u001B[39;00m,\n\u001B[1;32m   (...)\u001B[0m\n\u001B[0;32m   1254\u001B[0m         decimal\u001B[38;5;241m=\u001B[39m\u001B[38;5;124m\"\u001B[39m\u001B[38;5;124m.\u001B[39m\u001B[38;5;124m\"\u001B[39m,\n\u001B[0;32m   1255\u001B[0m     )\n\u001B[1;32m-> 1256\u001B[0m     \u001B[38;5;28;01mreturn\u001B[39;00m \u001B[43mfmt\u001B[49m\u001B[38;5;241;43m.\u001B[39;49m\u001B[43mDataFrameRenderer\u001B[49m\u001B[43m(\u001B[49m\u001B[43mformatter\u001B[49m\u001B[43m)\u001B[49m\u001B[38;5;241;43m.\u001B[39;49m\u001B[43mto_html\u001B[49m\u001B[43m(\u001B[49m\u001B[43mnotebook\u001B[49m\u001B[38;5;241;43m=\u001B[39;49m\u001B[38;5;28;43;01mTrue\u001B[39;49;00m\u001B[43m)\u001B[49m\n\u001B[0;32m   1257\u001B[0m \u001B[38;5;28;01melse\u001B[39;00m:\n\u001B[0;32m   1258\u001B[0m     \u001B[38;5;28;01mreturn\u001B[39;00m \u001B[38;5;28;01mNone\u001B[39;00m\n",
      "File \u001B[1;32mD:\\codes\\Pycharm\\stock-insight\\.venv\\Lib\\site-packages\\pandas\\io\\formats\\format.py:929\u001B[0m, in \u001B[0;36mDataFrameRenderer.to_html\u001B[1;34m(self, buf, encoding, classes, notebook, border, table_id, render_links)\u001B[0m\n\u001B[0;32m    922\u001B[0m \u001B[38;5;28;01mfrom\u001B[39;00m\u001B[38;5;250m \u001B[39m\u001B[38;5;21;01mpandas\u001B[39;00m\u001B[38;5;21;01m.\u001B[39;00m\u001B[38;5;21;01mio\u001B[39;00m\u001B[38;5;21;01m.\u001B[39;00m\u001B[38;5;21;01mformats\u001B[39;00m\u001B[38;5;21;01m.\u001B[39;00m\u001B[38;5;21;01mhtml\u001B[39;00m\u001B[38;5;250m \u001B[39m\u001B[38;5;28;01mimport\u001B[39;00m (\n\u001B[0;32m    923\u001B[0m     HTMLFormatter,\n\u001B[0;32m    924\u001B[0m     NotebookFormatter,\n\u001B[0;32m    925\u001B[0m )\n\u001B[0;32m    927\u001B[0m Klass \u001B[38;5;241m=\u001B[39m NotebookFormatter \u001B[38;5;28;01mif\u001B[39;00m notebook \u001B[38;5;28;01melse\u001B[39;00m HTMLFormatter\n\u001B[1;32m--> 929\u001B[0m html_formatter \u001B[38;5;241m=\u001B[39m \u001B[43mKlass\u001B[49m\u001B[43m(\u001B[49m\n\u001B[0;32m    930\u001B[0m \u001B[43m    \u001B[49m\u001B[38;5;28;43mself\u001B[39;49m\u001B[38;5;241;43m.\u001B[39;49m\u001B[43mfmt\u001B[49m\u001B[43m,\u001B[49m\n\u001B[0;32m    931\u001B[0m \u001B[43m    \u001B[49m\u001B[43mclasses\u001B[49m\u001B[38;5;241;43m=\u001B[39;49m\u001B[43mclasses\u001B[49m\u001B[43m,\u001B[49m\n\u001B[0;32m    932\u001B[0m \u001B[43m    \u001B[49m\u001B[43mborder\u001B[49m\u001B[38;5;241;43m=\u001B[39;49m\u001B[43mborder\u001B[49m\u001B[43m,\u001B[49m\n\u001B[0;32m    933\u001B[0m \u001B[43m    \u001B[49m\u001B[43mtable_id\u001B[49m\u001B[38;5;241;43m=\u001B[39;49m\u001B[43mtable_id\u001B[49m\u001B[43m,\u001B[49m\n\u001B[0;32m    934\u001B[0m \u001B[43m    \u001B[49m\u001B[43mrender_links\u001B[49m\u001B[38;5;241;43m=\u001B[39;49m\u001B[43mrender_links\u001B[49m\u001B[43m,\u001B[49m\n\u001B[0;32m    935\u001B[0m \u001B[43m\u001B[49m\u001B[43m)\u001B[49m\n\u001B[0;32m    936\u001B[0m string \u001B[38;5;241m=\u001B[39m html_formatter\u001B[38;5;241m.\u001B[39mto_string()\n\u001B[0;32m    937\u001B[0m \u001B[38;5;28;01mreturn\u001B[39;00m save_to_buffer(string, buf\u001B[38;5;241m=\u001B[39mbuf, encoding\u001B[38;5;241m=\u001B[39mencoding)\n",
      "File \u001B[1;32mD:\\codes\\Pycharm\\stock-insight\\.venv\\Lib\\site-packages\\pandas\\io\\formats\\html.py:68\u001B[0m, in \u001B[0;36mHTMLFormatter.__init__\u001B[1;34m(self, formatter, classes, border, table_id, render_links)\u001B[0m\n\u001B[0;32m     66\u001B[0m \u001B[38;5;28mself\u001B[39m\u001B[38;5;241m.\u001B[39mshow_dimensions \u001B[38;5;241m=\u001B[39m \u001B[38;5;28mself\u001B[39m\u001B[38;5;241m.\u001B[39mfmt\u001B[38;5;241m.\u001B[39mshow_dimensions\n\u001B[0;32m     67\u001B[0m \u001B[38;5;28;01mif\u001B[39;00m border \u001B[38;5;129;01mis\u001B[39;00m \u001B[38;5;28;01mNone\u001B[39;00m \u001B[38;5;129;01mor\u001B[39;00m border \u001B[38;5;129;01mis\u001B[39;00m \u001B[38;5;28;01mTrue\u001B[39;00m:\n\u001B[1;32m---> 68\u001B[0m     border \u001B[38;5;241m=\u001B[39m cast(\u001B[38;5;28mint\u001B[39m, \u001B[43mget_option\u001B[49m\u001B[43m(\u001B[49m\u001B[38;5;124;43m\"\u001B[39;49m\u001B[38;5;124;43mfunc.html.border\u001B[39;49m\u001B[38;5;124;43m\"\u001B[39;49m\u001B[43m)\u001B[49m)\n\u001B[0;32m     69\u001B[0m \u001B[38;5;28;01melif\u001B[39;00m \u001B[38;5;129;01mnot\u001B[39;00m border:\n\u001B[0;32m     70\u001B[0m     border \u001B[38;5;241m=\u001B[39m \u001B[38;5;28;01mNone\u001B[39;00m\n",
      "File \u001B[1;32mD:\\codes\\Pycharm\\stock-insight\\.venv\\Lib\\site-packages\\pandas\\_config\\config.py:274\u001B[0m, in \u001B[0;36mCallableDynamicDoc.__call__\u001B[1;34m(self, *args, **kwds)\u001B[0m\n\u001B[0;32m    273\u001B[0m \u001B[38;5;28;01mdef\u001B[39;00m\u001B[38;5;250m \u001B[39m\u001B[38;5;21m__call__\u001B[39m(\u001B[38;5;28mself\u001B[39m, \u001B[38;5;241m*\u001B[39margs, \u001B[38;5;241m*\u001B[39m\u001B[38;5;241m*\u001B[39mkwds) \u001B[38;5;241m-\u001B[39m\u001B[38;5;241m>\u001B[39m T:\n\u001B[1;32m--> 274\u001B[0m     \u001B[38;5;28;01mreturn\u001B[39;00m \u001B[38;5;28;43mself\u001B[39;49m\u001B[38;5;241;43m.\u001B[39;49m\u001B[38;5;18;43m__func__\u001B[39;49m\u001B[43m(\u001B[49m\u001B[38;5;241;43m*\u001B[39;49m\u001B[43margs\u001B[49m\u001B[43m,\u001B[49m\u001B[43m \u001B[49m\u001B[38;5;241;43m*\u001B[39;49m\u001B[38;5;241;43m*\u001B[39;49m\u001B[43mkwds\u001B[49m\u001B[43m)\u001B[49m\n",
      "File \u001B[1;32mD:\\codes\\Pycharm\\stock-insight\\.venv\\Lib\\site-packages\\pandas\\_config\\config.py:146\u001B[0m, in \u001B[0;36m_get_option\u001B[1;34m(pat, silent)\u001B[0m\n\u001B[0;32m    145\u001B[0m \u001B[38;5;28;01mdef\u001B[39;00m\u001B[38;5;250m \u001B[39m\u001B[38;5;21m_get_option\u001B[39m(pat: \u001B[38;5;28mstr\u001B[39m, silent: \u001B[38;5;28mbool\u001B[39m \u001B[38;5;241m=\u001B[39m \u001B[38;5;28;01mFalse\u001B[39;00m) \u001B[38;5;241m-\u001B[39m\u001B[38;5;241m>\u001B[39m Any:\n\u001B[1;32m--> 146\u001B[0m     key \u001B[38;5;241m=\u001B[39m \u001B[43m_get_single_key\u001B[49m\u001B[43m(\u001B[49m\u001B[43mpat\u001B[49m\u001B[43m,\u001B[49m\u001B[43m \u001B[49m\u001B[43msilent\u001B[49m\u001B[43m)\u001B[49m\n\u001B[0;32m    148\u001B[0m     \u001B[38;5;66;03m# walk the nested dict\u001B[39;00m\n\u001B[0;32m    149\u001B[0m     root, k \u001B[38;5;241m=\u001B[39m _get_root(key)\n",
      "File \u001B[1;32mD:\\codes\\Pycharm\\stock-insight\\.venv\\Lib\\site-packages\\pandas\\_config\\config.py:132\u001B[0m, in \u001B[0;36m_get_single_key\u001B[1;34m(pat, silent)\u001B[0m\n\u001B[0;32m    130\u001B[0m     \u001B[38;5;28;01mif\u001B[39;00m \u001B[38;5;129;01mnot\u001B[39;00m silent:\n\u001B[0;32m    131\u001B[0m         _warn_if_deprecated(pat)\n\u001B[1;32m--> 132\u001B[0m     \u001B[38;5;28;01mraise\u001B[39;00m OptionError(\u001B[38;5;124mf\u001B[39m\u001B[38;5;124m\"\u001B[39m\u001B[38;5;124mNo such keys(s): \u001B[39m\u001B[38;5;132;01m{\u001B[39;00m\u001B[38;5;28mrepr\u001B[39m(pat)\u001B[38;5;132;01m}\u001B[39;00m\u001B[38;5;124m\"\u001B[39m)\n\u001B[0;32m    133\u001B[0m \u001B[38;5;28;01mif\u001B[39;00m \u001B[38;5;28mlen\u001B[39m(keys) \u001B[38;5;241m>\u001B[39m \u001B[38;5;241m1\u001B[39m:\n\u001B[0;32m    134\u001B[0m     \u001B[38;5;28;01mraise\u001B[39;00m OptionError(\u001B[38;5;124m\"\u001B[39m\u001B[38;5;124mPattern matched multiple keys\u001B[39m\u001B[38;5;124m\"\u001B[39m)\n",
      "\u001B[1;31mOptionError\u001B[0m: No such keys(s): 'func.html.border'"
     ]
    },
    {
     "data": {
      "text/plain": [
       "            日期       开盘       收盘       最高       最低       成交量           成交额  \\\n",
       "0   2025-01-03  1026.37  1018.17  1049.33  1011.65   8352396  1.459733e+10   \n",
       "1   2025-01-06  1017.07  1003.64  1030.21   995.40   7686193  1.272115e+10   \n",
       "2   2025-01-07  1006.32  1024.42  1024.42   988.30   7687643  1.268141e+10   \n",
       "3   2025-01-08  1018.33  1037.40  1047.00   999.11   8772398  1.481062e+10   \n",
       "4   2025-01-09  1033.44  1053.53  1063.67  1028.72  10081531  1.766925e+10   \n",
       "5   2025-01-10  1050.57  1024.26  1068.38  1024.26   8430122  1.484717e+10   \n",
       "6   2025-01-13  1008.23  1000.22  1023.92   996.32   5811700  9.961789e+09   \n",
       "7   2025-01-14  1004.25  1107.94  1107.94  1004.25  11972714  2.152019e+10   \n",
       "8   2025-01-15  1102.65  1104.86  1139.94  1099.07  12748159  2.320293e+10   \n",
       "9   2025-01-16  1114.05  1127.35  1153.83  1106.44  10116838  1.932971e+10   \n",
       "10  2025-01-17  1123.41  1122.94  1141.06  1112.39   7980055  1.569035e+10   \n",
       "11  2025-01-20  1139.64  1125.59  1145.19  1118.36   6996563  1.354055e+10   \n",
       "12  2025-01-21  1136.81  1119.88  1138.21  1112.08   6439521  1.244325e+10   \n",
       "13  2025-01-22  1114.86  1074.16  1114.86  1072.63   6352701  1.202487e+10   \n",
       "14  2025-01-23  1097.31  1072.78  1116.92  1072.78   7418967  1.434004e+10   \n",
       "15  2025-01-24  1065.55  1079.22  1082.67  1057.14   6378294  1.186400e+10   \n",
       "16  2025-01-27  1092.05  1058.03  1095.51  1058.03   5182869  9.855702e+09   \n",
       "17  2025-02-05  1075.86  1070.38  1079.73  1063.08   5861819  1.091987e+10   \n",
       "18  2025-02-06  1067.62  1104.96  1106.35  1060.61   5499514  1.120025e+10   \n",
       "\n",
       "       振幅    涨跌幅     涨跌额   换手率  \n",
       "0    3.69  -0.17   -1.71  3.76  \n",
       "1    3.42  -1.43  -14.53  3.46  \n",
       "2    3.60   2.07   20.78  3.46  \n",
       "3    4.67   1.27   12.98  3.95  \n",
       "4    3.37   1.55   16.13  4.54  \n",
       "5    4.19  -2.78  -29.27  3.79  \n",
       "6    2.69  -2.35  -24.04  2.61  \n",
       "7   10.37  10.77  107.72  5.39  \n",
       "8    3.69  -0.28   -3.08  5.74  \n",
       "9    4.29   2.04   22.49  4.55  \n",
       "10   2.54  -0.39   -4.41  3.59  \n",
       "11   2.39   0.24    2.65  3.15  \n",
       "12   2.32  -0.51   -5.71  2.90  \n",
       "13   3.77  -4.08  -45.72  2.86  \n",
       "14   4.11  -0.13   -1.38  3.34  \n",
       "15   2.38   0.60    6.44  2.87  \n",
       "16   3.47  -1.96  -21.19  2.33  \n",
       "17   1.57   1.17   12.35  2.64  \n",
       "18   4.27   3.23   34.58  2.47  "
      ]
     },
     "execution_count": 7,
     "metadata": {},
     "output_type": "execute_result"
    }
   ],
   "execution_count": 7
  },
  {
   "metadata": {},
   "cell_type": "code",
   "source": "print(index_zh_a_hist_df.dtypes)",
   "id": "2ae8b9bcb5c73f53",
   "outputs": [],
   "execution_count": null
  },
  {
   "metadata": {},
   "cell_type": "markdown",
   "source": [
    "# 三、获取概念版块\n",
    "\n",
    "## 3.1 获取概念版块 列表\n",
    "\n",
    "接口: stock_board_concept_name_em\n",
    "\n",
    "目标地址: https://quote.eastmoney.com/center/boardlist.html#concept_board\n",
    "\n",
    "描述: 东方财富网-行情中心-沪深京板块-概念板块\n",
    "\n",
    "限量: 单次返回当前时刻所有概念板块数据"
   ],
   "id": "a421ff5b19f98c21"
  },
  {
   "metadata": {},
   "cell_type": "code",
   "source": [
    "import akshare as ak\n",
    "concept_df = ak.stock_board_concept_name_em()\n",
    "display(concept_df)"
   ],
   "id": "a3ae5c682a143440",
   "outputs": [],
   "execution_count": null
  },
  {
   "metadata": {},
   "cell_type": "markdown",
   "source": [
    "## 3.2 获取概念版块 数据\n",
    "接口: stock_board_concept_hist_em\n",
    "\n",
    "目标地址: http://quote.eastmoney.com/bk/90.BK0715.html\n",
    "\n",
    "描述: 东方财富-沪深板块-概念板块-历史行情数据\n",
    "\n",
    "限量: 单次返回指定 symbol 和 adjust 的历史数据"
   ],
   "id": "619595412cff94c0"
  },
  {
   "metadata": {
    "ExecuteTime": {
     "end_time": "2025-02-06T03:44:28.693982Z",
     "start_time": "2025-02-06T03:44:28.265428Z"
    }
   },
   "cell_type": "code",
   "source": [
    "import akshare as ak\n",
    "hist_df = ak.stock_board_concept_hist_em(symbol=\"MLOps概念\",start_date=\"20240101\", end_date=\"20990101\")\n",
    "display(hist_df)"
   ],
   "id": "57fe87b495f7206e",
   "outputs": [
    {
     "ename": "OptionError",
     "evalue": "No such keys(s): 'func.html.border'",
     "output_type": "error",
     "traceback": [
      "\u001B[1;31m---------------------------------------------------------------------------\u001B[0m",
      "\u001B[1;31mOptionError\u001B[0m                               Traceback (most recent call last)",
      "File \u001B[1;32mD:\\codes\\Pycharm\\stock-insight\\.venv\\Lib\\site-packages\\IPython\\core\\formatters.py:406\u001B[0m, in \u001B[0;36mBaseFormatter.__call__\u001B[1;34m(self, obj)\u001B[0m\n\u001B[0;32m    404\u001B[0m     method \u001B[38;5;241m=\u001B[39m get_real_method(obj, \u001B[38;5;28mself\u001B[39m\u001B[38;5;241m.\u001B[39mprint_method)\n\u001B[0;32m    405\u001B[0m     \u001B[38;5;28;01mif\u001B[39;00m method \u001B[38;5;129;01mis\u001B[39;00m \u001B[38;5;129;01mnot\u001B[39;00m \u001B[38;5;28;01mNone\u001B[39;00m:\n\u001B[1;32m--> 406\u001B[0m         \u001B[38;5;28;01mreturn\u001B[39;00m \u001B[43mmethod\u001B[49m\u001B[43m(\u001B[49m\u001B[43m)\u001B[49m\n\u001B[0;32m    407\u001B[0m     \u001B[38;5;28;01mreturn\u001B[39;00m \u001B[38;5;28;01mNone\u001B[39;00m\n\u001B[0;32m    408\u001B[0m \u001B[38;5;28;01melse\u001B[39;00m:\n",
      "File \u001B[1;32mD:\\codes\\Pycharm\\stock-insight\\.venv\\Lib\\site-packages\\pandas\\core\\frame.py:1256\u001B[0m, in \u001B[0;36mDataFrame._repr_html_\u001B[1;34m(self)\u001B[0m\n\u001B[0;32m   1234\u001B[0m     show_dimensions \u001B[38;5;241m=\u001B[39m get_option(\u001B[38;5;124m\"\u001B[39m\u001B[38;5;124mdisplay.show_dimensions\u001B[39m\u001B[38;5;124m\"\u001B[39m)\n\u001B[0;32m   1236\u001B[0m     formatter \u001B[38;5;241m=\u001B[39m fmt\u001B[38;5;241m.\u001B[39mDataFrameFormatter(\n\u001B[0;32m   1237\u001B[0m         \u001B[38;5;28mself\u001B[39m,\n\u001B[0;32m   1238\u001B[0m         columns\u001B[38;5;241m=\u001B[39m\u001B[38;5;28;01mNone\u001B[39;00m,\n\u001B[1;32m   (...)\u001B[0m\n\u001B[0;32m   1254\u001B[0m         decimal\u001B[38;5;241m=\u001B[39m\u001B[38;5;124m\"\u001B[39m\u001B[38;5;124m.\u001B[39m\u001B[38;5;124m\"\u001B[39m,\n\u001B[0;32m   1255\u001B[0m     )\n\u001B[1;32m-> 1256\u001B[0m     \u001B[38;5;28;01mreturn\u001B[39;00m \u001B[43mfmt\u001B[49m\u001B[38;5;241;43m.\u001B[39;49m\u001B[43mDataFrameRenderer\u001B[49m\u001B[43m(\u001B[49m\u001B[43mformatter\u001B[49m\u001B[43m)\u001B[49m\u001B[38;5;241;43m.\u001B[39;49m\u001B[43mto_html\u001B[49m\u001B[43m(\u001B[49m\u001B[43mnotebook\u001B[49m\u001B[38;5;241;43m=\u001B[39;49m\u001B[38;5;28;43;01mTrue\u001B[39;49;00m\u001B[43m)\u001B[49m\n\u001B[0;32m   1257\u001B[0m \u001B[38;5;28;01melse\u001B[39;00m:\n\u001B[0;32m   1258\u001B[0m     \u001B[38;5;28;01mreturn\u001B[39;00m \u001B[38;5;28;01mNone\u001B[39;00m\n",
      "File \u001B[1;32mD:\\codes\\Pycharm\\stock-insight\\.venv\\Lib\\site-packages\\pandas\\io\\formats\\format.py:929\u001B[0m, in \u001B[0;36mDataFrameRenderer.to_html\u001B[1;34m(self, buf, encoding, classes, notebook, border, table_id, render_links)\u001B[0m\n\u001B[0;32m    922\u001B[0m \u001B[38;5;28;01mfrom\u001B[39;00m\u001B[38;5;250m \u001B[39m\u001B[38;5;21;01mpandas\u001B[39;00m\u001B[38;5;21;01m.\u001B[39;00m\u001B[38;5;21;01mio\u001B[39;00m\u001B[38;5;21;01m.\u001B[39;00m\u001B[38;5;21;01mformats\u001B[39;00m\u001B[38;5;21;01m.\u001B[39;00m\u001B[38;5;21;01mhtml\u001B[39;00m\u001B[38;5;250m \u001B[39m\u001B[38;5;28;01mimport\u001B[39;00m (\n\u001B[0;32m    923\u001B[0m     HTMLFormatter,\n\u001B[0;32m    924\u001B[0m     NotebookFormatter,\n\u001B[0;32m    925\u001B[0m )\n\u001B[0;32m    927\u001B[0m Klass \u001B[38;5;241m=\u001B[39m NotebookFormatter \u001B[38;5;28;01mif\u001B[39;00m notebook \u001B[38;5;28;01melse\u001B[39;00m HTMLFormatter\n\u001B[1;32m--> 929\u001B[0m html_formatter \u001B[38;5;241m=\u001B[39m \u001B[43mKlass\u001B[49m\u001B[43m(\u001B[49m\n\u001B[0;32m    930\u001B[0m \u001B[43m    \u001B[49m\u001B[38;5;28;43mself\u001B[39;49m\u001B[38;5;241;43m.\u001B[39;49m\u001B[43mfmt\u001B[49m\u001B[43m,\u001B[49m\n\u001B[0;32m    931\u001B[0m \u001B[43m    \u001B[49m\u001B[43mclasses\u001B[49m\u001B[38;5;241;43m=\u001B[39;49m\u001B[43mclasses\u001B[49m\u001B[43m,\u001B[49m\n\u001B[0;32m    932\u001B[0m \u001B[43m    \u001B[49m\u001B[43mborder\u001B[49m\u001B[38;5;241;43m=\u001B[39;49m\u001B[43mborder\u001B[49m\u001B[43m,\u001B[49m\n\u001B[0;32m    933\u001B[0m \u001B[43m    \u001B[49m\u001B[43mtable_id\u001B[49m\u001B[38;5;241;43m=\u001B[39;49m\u001B[43mtable_id\u001B[49m\u001B[43m,\u001B[49m\n\u001B[0;32m    934\u001B[0m \u001B[43m    \u001B[49m\u001B[43mrender_links\u001B[49m\u001B[38;5;241;43m=\u001B[39;49m\u001B[43mrender_links\u001B[49m\u001B[43m,\u001B[49m\n\u001B[0;32m    935\u001B[0m \u001B[43m\u001B[49m\u001B[43m)\u001B[49m\n\u001B[0;32m    936\u001B[0m string \u001B[38;5;241m=\u001B[39m html_formatter\u001B[38;5;241m.\u001B[39mto_string()\n\u001B[0;32m    937\u001B[0m \u001B[38;5;28;01mreturn\u001B[39;00m save_to_buffer(string, buf\u001B[38;5;241m=\u001B[39mbuf, encoding\u001B[38;5;241m=\u001B[39mencoding)\n",
      "File \u001B[1;32mD:\\codes\\Pycharm\\stock-insight\\.venv\\Lib\\site-packages\\pandas\\io\\formats\\html.py:68\u001B[0m, in \u001B[0;36mHTMLFormatter.__init__\u001B[1;34m(self, formatter, classes, border, table_id, render_links)\u001B[0m\n\u001B[0;32m     66\u001B[0m \u001B[38;5;28mself\u001B[39m\u001B[38;5;241m.\u001B[39mshow_dimensions \u001B[38;5;241m=\u001B[39m \u001B[38;5;28mself\u001B[39m\u001B[38;5;241m.\u001B[39mfmt\u001B[38;5;241m.\u001B[39mshow_dimensions\n\u001B[0;32m     67\u001B[0m \u001B[38;5;28;01mif\u001B[39;00m border \u001B[38;5;129;01mis\u001B[39;00m \u001B[38;5;28;01mNone\u001B[39;00m \u001B[38;5;129;01mor\u001B[39;00m border \u001B[38;5;129;01mis\u001B[39;00m \u001B[38;5;28;01mTrue\u001B[39;00m:\n\u001B[1;32m---> 68\u001B[0m     border \u001B[38;5;241m=\u001B[39m cast(\u001B[38;5;28mint\u001B[39m, \u001B[43mget_option\u001B[49m\u001B[43m(\u001B[49m\u001B[38;5;124;43m\"\u001B[39;49m\u001B[38;5;124;43mfunc.html.border\u001B[39;49m\u001B[38;5;124;43m\"\u001B[39;49m\u001B[43m)\u001B[49m)\n\u001B[0;32m     69\u001B[0m \u001B[38;5;28;01melif\u001B[39;00m \u001B[38;5;129;01mnot\u001B[39;00m border:\n\u001B[0;32m     70\u001B[0m     border \u001B[38;5;241m=\u001B[39m \u001B[38;5;28;01mNone\u001B[39;00m\n",
      "File \u001B[1;32mD:\\codes\\Pycharm\\stock-insight\\.venv\\Lib\\site-packages\\pandas\\_config\\config.py:274\u001B[0m, in \u001B[0;36mCallableDynamicDoc.__call__\u001B[1;34m(self, *args, **kwds)\u001B[0m\n\u001B[0;32m    273\u001B[0m \u001B[38;5;28;01mdef\u001B[39;00m\u001B[38;5;250m \u001B[39m\u001B[38;5;21m__call__\u001B[39m(\u001B[38;5;28mself\u001B[39m, \u001B[38;5;241m*\u001B[39margs, \u001B[38;5;241m*\u001B[39m\u001B[38;5;241m*\u001B[39mkwds) \u001B[38;5;241m-\u001B[39m\u001B[38;5;241m>\u001B[39m T:\n\u001B[1;32m--> 274\u001B[0m     \u001B[38;5;28;01mreturn\u001B[39;00m \u001B[38;5;28;43mself\u001B[39;49m\u001B[38;5;241;43m.\u001B[39;49m\u001B[38;5;18;43m__func__\u001B[39;49m\u001B[43m(\u001B[49m\u001B[38;5;241;43m*\u001B[39;49m\u001B[43margs\u001B[49m\u001B[43m,\u001B[49m\u001B[43m \u001B[49m\u001B[38;5;241;43m*\u001B[39;49m\u001B[38;5;241;43m*\u001B[39;49m\u001B[43mkwds\u001B[49m\u001B[43m)\u001B[49m\n",
      "File \u001B[1;32mD:\\codes\\Pycharm\\stock-insight\\.venv\\Lib\\site-packages\\pandas\\_config\\config.py:146\u001B[0m, in \u001B[0;36m_get_option\u001B[1;34m(pat, silent)\u001B[0m\n\u001B[0;32m    145\u001B[0m \u001B[38;5;28;01mdef\u001B[39;00m\u001B[38;5;250m \u001B[39m\u001B[38;5;21m_get_option\u001B[39m(pat: \u001B[38;5;28mstr\u001B[39m, silent: \u001B[38;5;28mbool\u001B[39m \u001B[38;5;241m=\u001B[39m \u001B[38;5;28;01mFalse\u001B[39;00m) \u001B[38;5;241m-\u001B[39m\u001B[38;5;241m>\u001B[39m Any:\n\u001B[1;32m--> 146\u001B[0m     key \u001B[38;5;241m=\u001B[39m \u001B[43m_get_single_key\u001B[49m\u001B[43m(\u001B[49m\u001B[43mpat\u001B[49m\u001B[43m,\u001B[49m\u001B[43m \u001B[49m\u001B[43msilent\u001B[49m\u001B[43m)\u001B[49m\n\u001B[0;32m    148\u001B[0m     \u001B[38;5;66;03m# walk the nested dict\u001B[39;00m\n\u001B[0;32m    149\u001B[0m     root, k \u001B[38;5;241m=\u001B[39m _get_root(key)\n",
      "File \u001B[1;32mD:\\codes\\Pycharm\\stock-insight\\.venv\\Lib\\site-packages\\pandas\\_config\\config.py:132\u001B[0m, in \u001B[0;36m_get_single_key\u001B[1;34m(pat, silent)\u001B[0m\n\u001B[0;32m    130\u001B[0m     \u001B[38;5;28;01mif\u001B[39;00m \u001B[38;5;129;01mnot\u001B[39;00m silent:\n\u001B[0;32m    131\u001B[0m         _warn_if_deprecated(pat)\n\u001B[1;32m--> 132\u001B[0m     \u001B[38;5;28;01mraise\u001B[39;00m OptionError(\u001B[38;5;124mf\u001B[39m\u001B[38;5;124m\"\u001B[39m\u001B[38;5;124mNo such keys(s): \u001B[39m\u001B[38;5;132;01m{\u001B[39;00m\u001B[38;5;28mrepr\u001B[39m(pat)\u001B[38;5;132;01m}\u001B[39;00m\u001B[38;5;124m\"\u001B[39m)\n\u001B[0;32m    133\u001B[0m \u001B[38;5;28;01mif\u001B[39;00m \u001B[38;5;28mlen\u001B[39m(keys) \u001B[38;5;241m>\u001B[39m \u001B[38;5;241m1\u001B[39m:\n\u001B[0;32m    134\u001B[0m     \u001B[38;5;28;01mraise\u001B[39;00m OptionError(\u001B[38;5;124m\"\u001B[39m\u001B[38;5;124mPattern matched multiple keys\u001B[39m\u001B[38;5;124m\"\u001B[39m)\n",
      "\u001B[1;31mOptionError\u001B[0m: No such keys(s): 'func.html.border'"
     ]
    },
    {
     "data": {
      "text/plain": [
       "            日期       开盘       收盘       最高      最低   涨跌幅    涨跌额      成交量  \\\n",
       "0   2025-01-02   928.50   896.83   933.25  885.26 -3.68 -34.29  1649767   \n",
       "1   2025-01-03   897.73   846.37   901.58  844.16 -5.63 -50.46  1731979   \n",
       "2   2025-01-06   847.01   836.83   849.64  826.22 -1.13  -9.54  1248339   \n",
       "3   2025-01-07   843.35   862.70   863.27  841.79  3.09  25.87  1206685   \n",
       "4   2025-01-08   857.56   856.40   865.03  826.52 -0.73  -6.30  1433079   \n",
       "5   2025-01-09   848.43   858.04   867.42  846.17  0.19   1.64  1110780   \n",
       "6   2025-01-10   856.07   836.08   868.20  836.08 -2.56 -21.96  1388091   \n",
       "7   2025-01-13   828.91   846.79   851.60  816.90  1.28  10.71  1168322   \n",
       "8   2025-01-14   853.00   908.06   908.06  852.16  7.24  61.27  2283261   \n",
       "9   2025-01-15   906.93   907.38   921.17  895.37 -0.07  -0.68  2503590   \n",
       "10  2025-01-16   916.51   925.64   944.72  916.51  2.01  18.26  3433651   \n",
       "11  2025-01-17   914.84   911.18   919.73  901.61 -1.56 -14.46  2516778   \n",
       "12  2025-01-20   919.19   920.43   925.37  905.50  1.02   9.25  2121668   \n",
       "13  2025-01-21   930.84   922.54   935.02  905.75  0.23   2.11  2205672   \n",
       "14  2025-01-22   917.49   911.67   919.98  905.67 -1.18 -10.87  1783827   \n",
       "15  2025-01-23   926.00   911.25   947.16  911.25 -0.05  -0.42  2343563   \n",
       "16  2025-01-24   899.87   956.86   957.99  899.87  5.01  45.61  3369390   \n",
       "17  2025-01-27   970.58   936.61   970.58  936.61 -2.12 -20.25  2297792   \n",
       "18  2025-02-05   987.92  1004.78  1012.90  987.92  7.28  68.17  3714893   \n",
       "19  2025-02-06  1004.17  1046.47  1047.06  996.96  4.15  41.69  2435669   \n",
       "\n",
       "             成交额    振幅   换手率  \n",
       "0   2.727959e+09  5.15  2.60  \n",
       "1   2.668534e+09  6.40  2.73  \n",
       "2   2.112101e+09  2.77  1.97  \n",
       "3   2.012156e+09  2.57  1.90  \n",
       "4   2.180417e+09  4.46  2.26  \n",
       "5   1.806209e+09  2.48  1.75  \n",
       "6   2.253272e+09  3.74  2.19  \n",
       "7   1.711178e+09  4.15  1.84  \n",
       "8   3.173388e+09  6.60  3.59  \n",
       "9   3.135553e+09  2.84  3.94  \n",
       "10  4.571053e+09  3.11  5.41  \n",
       "11  3.593702e+09  1.96  3.96  \n",
       "12  3.280253e+09  2.18  3.34  \n",
       "13  3.390147e+09  3.18  3.47  \n",
       "14  2.629987e+09  1.55  2.81  \n",
       "15  3.749245e+09  3.94  3.69  \n",
       "16  5.039718e+09  6.38  5.30  \n",
       "17  3.751945e+09  3.55  3.62  \n",
       "18  6.674881e+09  2.67  5.85  \n",
       "19  4.927920e+09  4.99  3.83  "
      ]
     },
     "metadata": {},
     "output_type": "display_data"
    }
   ],
   "execution_count": 3
  }
 ],
 "metadata": {
  "kernelspec": {
   "display_name": "Python 3",
   "language": "python",
   "name": "python3"
  },
  "language_info": {
   "codemirror_mode": {
    "name": "ipython",
    "version": 2
   },
   "file_extension": ".py",
   "mimetype": "text/x-python",
   "name": "python",
   "nbconvert_exporter": "python",
   "pygments_lexer": "ipython2",
   "version": "2.7.6"
  }
 },
 "nbformat": 4,
 "nbformat_minor": 5
}
