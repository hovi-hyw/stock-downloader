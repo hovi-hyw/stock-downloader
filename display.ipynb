{
 "cells": [
  {
   "metadata": {},
   "cell_type": "markdown",
   "source": "# 一、股票相关下载",
   "id": "d29f902471dccb97"
  },
  {
   "metadata": {},
   "cell_type": "markdown",
   "source": [
    "## 1.1 获取股票 列表\n",
    "\n",
    "接口: stock_zh_a_spot\n",
    "\n",
    "目标地址: https://vip.stock.finance.sina.com.cn/mkt/#hs_a\n",
    "\n",
    "描述: 新浪财经-沪深京 A 股数据, 重复运行本函数会被新浪暂时封 IP, 建议增加时间间隔\n",
    "\n",
    "限量: 单次返回沪深京 A 股上市公司的实时行情数据\n",
    "\n",
    "输入参数: 无"
   ],
   "id": "139399321e6b889c"
  },
  {
   "metadata": {},
   "cell_type": "code",
   "source": [
    "from django.contrib.admin import display\n",
    "import akshare as ak\n",
    "stock_list = ak.stock_zh_a_spot()\n",
    "display(stock_list)"
   ],
   "id": "59ccdb20ced6dc66",
   "outputs": [],
   "execution_count": null
  },
  {
   "metadata": {},
   "cell_type": "markdown",
   "source": [
    "## 1.2 获取个股 数据\n",
    "接口: stock_zh_a_daily\n",
    "\n",
    "目标地址: https://finance.sina.com.cn/realstock/company/sh600006/nc.shtml(示例)\n",
    "\n",
    "描述: 新浪财经-沪深京 A 股的数据, 历史数据按日频率更新;\n",
    "\n",
    "限量: 单次返回指定沪深京 A 股上市公司指定日期间的历史行情日频率数据, 多次获取容易封禁 IP\n",
    "\n",
    "输入参数\n",
    "\n",
    "| 名称         | 类型  | 描述                                                                                   |\n",
    "|------------|-----|--------------------------------------------------------------------------------------|\n",
    "| symbol     | str | symbol='sh600000'; 股票代码可以在 **ak.stock_zh_a_spot()** 中获取                              |\n",
    "| start_date | str | start_date='20201103'; 开始查询的日期                                                       |\n",
    "| end_date   | str | end_date='20201116'; 结束查询的日期                                                         |\n",
    "| adjust     | str | 默认返回不复权的数据; qfq: 返回前复权后的数据; hfq: 返回后复权后的数据; hfq-factor: 返回后复权因子; qfq-factor: 返回前复权因子 |"
   ],
   "id": "18e4e7becfa9228f"
  },
  {
   "metadata": {
    "collapsed": true
   },
   "cell_type": "code",
   "source": [
    "import akshare as ak\n",
    "\n",
    "stock_data = ak.stock_zh_a_daily(symbol=\"sz000001\", start_date=\"20250101\", end_date=\"20990101\")\n",
    "display(stock_data)"
   ],
   "id": "initial_id",
   "outputs": [],
   "execution_count": null
  },
  {
   "metadata": {},
   "cell_type": "code",
   "source": [
    "display(stock_data.columns)\n",
    "print(stock_data.dtypes)"
   ],
   "id": "2301cef1fe8619c2",
   "outputs": [],
   "execution_count": null
  },
  {
   "metadata": {},
   "cell_type": "markdown",
   "source": [
    "# 二、 指数相关下载\n",
    "## 2.1 获取指数 列表\n",
    "\n",
    "实时行情数据-新浪\n",
    "接口: stock_zh_index_spot_sina\n",
    "\n",
    "目标地址: https://vip.stock.finance.sina.com.cn/mkt/#hs_s\n",
    "\n",
    "描述: 新浪财经-中国股票指数数据\n",
    "\n",
    "限量: 单次返回所有指数的实时行情数据"
   ],
   "id": "54e2c9479fcaeae3"
  },
  {
   "metadata": {},
   "cell_type": "code",
   "source": [
    "import akshare as ak\n",
    "\n",
    "stock_zh_index_spot_sina_df = ak.stock_zh_index_spot_sina()\n",
    "display(stock_zh_index_spot_sina_df)"
   ],
   "id": "cc6a27e1238c684c",
   "outputs": [],
   "execution_count": null
  },
  {
   "metadata": {},
   "cell_type": "code",
   "source": [
    "filtered_df = stock_zh_index_spot_sina_df[stock_zh_index_spot_sina_df['代码'].str.contains('000001')]\n",
    "display(filtered_df)"
   ],
   "id": "a728160dd25c4955",
   "outputs": [],
   "execution_count": null
  },
  {
   "metadata": {},
   "cell_type": "code",
   "source": [
    "# 东财获取指数的方法\n",
    "import akshare as ak\n",
    "df = ak.stock_zh_index_spot_em(symbol=\"沪深重要指数\")\n",
    "display(df)"
   ],
   "id": "420be6c7c2f42b33",
   "outputs": [],
   "execution_count": null
  },
  {
   "metadata": {},
   "cell_type": "code",
   "source": [
    "# sina获取指数的方法\n",
    "display(df.columns)\n",
    "print(df.dtypes)"
   ],
   "id": "339b7903898c0679",
   "outputs": [],
   "execution_count": null
  },
  {
   "metadata": {},
   "cell_type": "markdown",
   "source": [
    "## 2.2 获取指数 数据\n",
    "\n",
    "接口: index_zh_a_hist\n",
    "\n",
    "目标地址: http://quote.eastmoney.com/center/hszs.html\n",
    "\n",
    "描述: 东方财富网-中国股票指数-行情数据\n",
    "\n",
    "限量: 单次返回具体指数指定 period 从 start_date 到 end_date 的之间的近期数据\n",
    "\n",
    "输入参数\n",
    "\n",
    "| 名称        | 类型   | 描述                                         |\n",
    "|-------------|--------|----------------------------------------------|\n",
    "| symbol      | str    | symbol=\"399282\"; 指数代码，此处不用市场标识   |\n",
    "| period      | str    | period=\"daily\"; choice of {'daily', 'weekly', 'monthly'} |\n",
    "| start_date  | str    | start_date=\"19700101\"; 开始日期               |\n",
    "| end_date    | str    | end_date=\"22220101\"; 结束时间                 |\n",
    "\n"
   ],
   "id": "5c9b5b2810f7d9e8"
  },
  {
   "metadata": {},
   "cell_type": "code",
   "source": [
    "import akshare as ak\n",
    "from django.contrib.admin import display\n",
    "index_zh_a_hist_df = ak.index_zh_a_hist(symbol=\"899050\", period=\"daily\", start_date=\"20250103\", end_date=\"20900101\")\n",
    "display(index_zh_a_hist_df)"
   ],
   "id": "633033e8ec7c01f6",
   "outputs": [],
   "execution_count": null
  },
  {
   "metadata": {},
   "cell_type": "code",
   "source": "print(index_zh_a_hist_df.dtypes)",
   "id": "2ae8b9bcb5c73f53",
   "outputs": [],
   "execution_count": null
  },
  {
   "metadata": {},
   "cell_type": "markdown",
   "source": [
    "# 三、获取概念版块\n",
    "\n",
    "## 3.1 获取概念版块 列表\n",
    "\n",
    "接口: stock_board_concept_name_em\n",
    "\n",
    "目标地址: https://quote.eastmoney.com/center/boardlist.html#concept_board\n",
    "\n",
    "描述: 东方财富网-行情中心-沪深京板块-概念板块\n",
    "\n",
    "限量: 单次返回当前时刻所有概念板块数据"
   ],
   "id": "a421ff5b19f98c21"
  },
  {
   "metadata": {},
   "cell_type": "code",
   "source": [
    "import akshare as ak\n",
    "concept_df = ak.stock_board_concept_name_em()\n",
    "display(concept_df)"
   ],
   "id": "a3ae5c682a143440",
   "outputs": [],
   "execution_count": null
  },
  {
   "metadata": {},
   "cell_type": "markdown",
   "source": [
    "## 3.2 获取概念版块 数据\n",
    "接口: stock_board_concept_hist_em\n",
    "\n",
    "目标地址: http://quote.eastmoney.com/bk/90.BK0715.html\n",
    "\n",
    "描述: 东方财富-沪深板块-概念板块-历史行情数据\n",
    "\n",
    "限量: 单次返回指定 symbol 和 adjust 的历史数据"
   ],
   "id": "619595412cff94c0"
  },
  {
   "metadata": {
    "ExecuteTime": {
     "end_time": "2025-02-07T13:19:50.221410Z",
     "start_time": "2025-02-07T13:19:49.979563Z"
    }
   },
   "cell_type": "code",
   "source": [
    "import akshare as ak\n",
    "hist_df = ak.stock_board_concept_hist_em(symbol=\"昨日连板_含一字\",start_date=\"20250201\", end_date=\"20990101\")\n",
    "display(hist_df)"
   ],
   "id": "57fe87b495f7206e",
   "outputs": [
    {
     "ename": "OptionError",
     "evalue": "No such keys(s): 'func.html.border'",
     "output_type": "error",
     "traceback": [
      "\u001B[1;31m---------------------------------------------------------------------------\u001B[0m",
      "\u001B[1;31mOptionError\u001B[0m                               Traceback (most recent call last)",
      "File \u001B[1;32mD:\\codes\\Pycharm\\stock-insight\\.venv\\Lib\\site-packages\\IPython\\core\\formatters.py:406\u001B[0m, in \u001B[0;36mBaseFormatter.__call__\u001B[1;34m(self, obj)\u001B[0m\n\u001B[0;32m    404\u001B[0m     method \u001B[38;5;241m=\u001B[39m get_real_method(obj, \u001B[38;5;28mself\u001B[39m\u001B[38;5;241m.\u001B[39mprint_method)\n\u001B[0;32m    405\u001B[0m     \u001B[38;5;28;01mif\u001B[39;00m method \u001B[38;5;129;01mis\u001B[39;00m \u001B[38;5;129;01mnot\u001B[39;00m \u001B[38;5;28;01mNone\u001B[39;00m:\n\u001B[1;32m--> 406\u001B[0m         \u001B[38;5;28;01mreturn\u001B[39;00m \u001B[43mmethod\u001B[49m\u001B[43m(\u001B[49m\u001B[43m)\u001B[49m\n\u001B[0;32m    407\u001B[0m     \u001B[38;5;28;01mreturn\u001B[39;00m \u001B[38;5;28;01mNone\u001B[39;00m\n\u001B[0;32m    408\u001B[0m \u001B[38;5;28;01melse\u001B[39;00m:\n",
      "File \u001B[1;32mD:\\codes\\Pycharm\\stock-insight\\.venv\\Lib\\site-packages\\pandas\\core\\frame.py:1256\u001B[0m, in \u001B[0;36mDataFrame._repr_html_\u001B[1;34m(self)\u001B[0m\n\u001B[0;32m   1234\u001B[0m     show_dimensions \u001B[38;5;241m=\u001B[39m get_option(\u001B[38;5;124m\"\u001B[39m\u001B[38;5;124mdisplay.show_dimensions\u001B[39m\u001B[38;5;124m\"\u001B[39m)\n\u001B[0;32m   1236\u001B[0m     formatter \u001B[38;5;241m=\u001B[39m fmt\u001B[38;5;241m.\u001B[39mDataFrameFormatter(\n\u001B[0;32m   1237\u001B[0m         \u001B[38;5;28mself\u001B[39m,\n\u001B[0;32m   1238\u001B[0m         columns\u001B[38;5;241m=\u001B[39m\u001B[38;5;28;01mNone\u001B[39;00m,\n\u001B[1;32m   (...)\u001B[0m\n\u001B[0;32m   1254\u001B[0m         decimal\u001B[38;5;241m=\u001B[39m\u001B[38;5;124m\"\u001B[39m\u001B[38;5;124m.\u001B[39m\u001B[38;5;124m\"\u001B[39m,\n\u001B[0;32m   1255\u001B[0m     )\n\u001B[1;32m-> 1256\u001B[0m     \u001B[38;5;28;01mreturn\u001B[39;00m \u001B[43mfmt\u001B[49m\u001B[38;5;241;43m.\u001B[39;49m\u001B[43mDataFrameRenderer\u001B[49m\u001B[43m(\u001B[49m\u001B[43mformatter\u001B[49m\u001B[43m)\u001B[49m\u001B[38;5;241;43m.\u001B[39;49m\u001B[43mto_html\u001B[49m\u001B[43m(\u001B[49m\u001B[43mnotebook\u001B[49m\u001B[38;5;241;43m=\u001B[39;49m\u001B[38;5;28;43;01mTrue\u001B[39;49;00m\u001B[43m)\u001B[49m\n\u001B[0;32m   1257\u001B[0m \u001B[38;5;28;01melse\u001B[39;00m:\n\u001B[0;32m   1258\u001B[0m     \u001B[38;5;28;01mreturn\u001B[39;00m \u001B[38;5;28;01mNone\u001B[39;00m\n",
      "File \u001B[1;32mD:\\codes\\Pycharm\\stock-insight\\.venv\\Lib\\site-packages\\pandas\\io\\formats\\format.py:929\u001B[0m, in \u001B[0;36mDataFrameRenderer.to_html\u001B[1;34m(self, buf, encoding, classes, notebook, border, table_id, render_links)\u001B[0m\n\u001B[0;32m    922\u001B[0m \u001B[38;5;28;01mfrom\u001B[39;00m\u001B[38;5;250m \u001B[39m\u001B[38;5;21;01mpandas\u001B[39;00m\u001B[38;5;21;01m.\u001B[39;00m\u001B[38;5;21;01mio\u001B[39;00m\u001B[38;5;21;01m.\u001B[39;00m\u001B[38;5;21;01mformats\u001B[39;00m\u001B[38;5;21;01m.\u001B[39;00m\u001B[38;5;21;01mhtml\u001B[39;00m\u001B[38;5;250m \u001B[39m\u001B[38;5;28;01mimport\u001B[39;00m (\n\u001B[0;32m    923\u001B[0m     HTMLFormatter,\n\u001B[0;32m    924\u001B[0m     NotebookFormatter,\n\u001B[0;32m    925\u001B[0m )\n\u001B[0;32m    927\u001B[0m Klass \u001B[38;5;241m=\u001B[39m NotebookFormatter \u001B[38;5;28;01mif\u001B[39;00m notebook \u001B[38;5;28;01melse\u001B[39;00m HTMLFormatter\n\u001B[1;32m--> 929\u001B[0m html_formatter \u001B[38;5;241m=\u001B[39m \u001B[43mKlass\u001B[49m\u001B[43m(\u001B[49m\n\u001B[0;32m    930\u001B[0m \u001B[43m    \u001B[49m\u001B[38;5;28;43mself\u001B[39;49m\u001B[38;5;241;43m.\u001B[39;49m\u001B[43mfmt\u001B[49m\u001B[43m,\u001B[49m\n\u001B[0;32m    931\u001B[0m \u001B[43m    \u001B[49m\u001B[43mclasses\u001B[49m\u001B[38;5;241;43m=\u001B[39;49m\u001B[43mclasses\u001B[49m\u001B[43m,\u001B[49m\n\u001B[0;32m    932\u001B[0m \u001B[43m    \u001B[49m\u001B[43mborder\u001B[49m\u001B[38;5;241;43m=\u001B[39;49m\u001B[43mborder\u001B[49m\u001B[43m,\u001B[49m\n\u001B[0;32m    933\u001B[0m \u001B[43m    \u001B[49m\u001B[43mtable_id\u001B[49m\u001B[38;5;241;43m=\u001B[39;49m\u001B[43mtable_id\u001B[49m\u001B[43m,\u001B[49m\n\u001B[0;32m    934\u001B[0m \u001B[43m    \u001B[49m\u001B[43mrender_links\u001B[49m\u001B[38;5;241;43m=\u001B[39;49m\u001B[43mrender_links\u001B[49m\u001B[43m,\u001B[49m\n\u001B[0;32m    935\u001B[0m \u001B[43m\u001B[49m\u001B[43m)\u001B[49m\n\u001B[0;32m    936\u001B[0m string \u001B[38;5;241m=\u001B[39m html_formatter\u001B[38;5;241m.\u001B[39mto_string()\n\u001B[0;32m    937\u001B[0m \u001B[38;5;28;01mreturn\u001B[39;00m save_to_buffer(string, buf\u001B[38;5;241m=\u001B[39mbuf, encoding\u001B[38;5;241m=\u001B[39mencoding)\n",
      "File \u001B[1;32mD:\\codes\\Pycharm\\stock-insight\\.venv\\Lib\\site-packages\\pandas\\io\\formats\\html.py:68\u001B[0m, in \u001B[0;36mHTMLFormatter.__init__\u001B[1;34m(self, formatter, classes, border, table_id, render_links)\u001B[0m\n\u001B[0;32m     66\u001B[0m \u001B[38;5;28mself\u001B[39m\u001B[38;5;241m.\u001B[39mshow_dimensions \u001B[38;5;241m=\u001B[39m \u001B[38;5;28mself\u001B[39m\u001B[38;5;241m.\u001B[39mfmt\u001B[38;5;241m.\u001B[39mshow_dimensions\n\u001B[0;32m     67\u001B[0m \u001B[38;5;28;01mif\u001B[39;00m border \u001B[38;5;129;01mis\u001B[39;00m \u001B[38;5;28;01mNone\u001B[39;00m \u001B[38;5;129;01mor\u001B[39;00m border \u001B[38;5;129;01mis\u001B[39;00m \u001B[38;5;28;01mTrue\u001B[39;00m:\n\u001B[1;32m---> 68\u001B[0m     border \u001B[38;5;241m=\u001B[39m cast(\u001B[38;5;28mint\u001B[39m, \u001B[43mget_option\u001B[49m\u001B[43m(\u001B[49m\u001B[38;5;124;43m\"\u001B[39;49m\u001B[38;5;124;43mfunc.html.border\u001B[39;49m\u001B[38;5;124;43m\"\u001B[39;49m\u001B[43m)\u001B[49m)\n\u001B[0;32m     69\u001B[0m \u001B[38;5;28;01melif\u001B[39;00m \u001B[38;5;129;01mnot\u001B[39;00m border:\n\u001B[0;32m     70\u001B[0m     border \u001B[38;5;241m=\u001B[39m \u001B[38;5;28;01mNone\u001B[39;00m\n",
      "File \u001B[1;32mD:\\codes\\Pycharm\\stock-insight\\.venv\\Lib\\site-packages\\pandas\\_config\\config.py:274\u001B[0m, in \u001B[0;36mCallableDynamicDoc.__call__\u001B[1;34m(self, *args, **kwds)\u001B[0m\n\u001B[0;32m    273\u001B[0m \u001B[38;5;28;01mdef\u001B[39;00m\u001B[38;5;250m \u001B[39m\u001B[38;5;21m__call__\u001B[39m(\u001B[38;5;28mself\u001B[39m, \u001B[38;5;241m*\u001B[39margs, \u001B[38;5;241m*\u001B[39m\u001B[38;5;241m*\u001B[39mkwds) \u001B[38;5;241m-\u001B[39m\u001B[38;5;241m>\u001B[39m T:\n\u001B[1;32m--> 274\u001B[0m     \u001B[38;5;28;01mreturn\u001B[39;00m \u001B[38;5;28;43mself\u001B[39;49m\u001B[38;5;241;43m.\u001B[39;49m\u001B[38;5;18;43m__func__\u001B[39;49m\u001B[43m(\u001B[49m\u001B[38;5;241;43m*\u001B[39;49m\u001B[43margs\u001B[49m\u001B[43m,\u001B[49m\u001B[43m \u001B[49m\u001B[38;5;241;43m*\u001B[39;49m\u001B[38;5;241;43m*\u001B[39;49m\u001B[43mkwds\u001B[49m\u001B[43m)\u001B[49m\n",
      "File \u001B[1;32mD:\\codes\\Pycharm\\stock-insight\\.venv\\Lib\\site-packages\\pandas\\_config\\config.py:146\u001B[0m, in \u001B[0;36m_get_option\u001B[1;34m(pat, silent)\u001B[0m\n\u001B[0;32m    145\u001B[0m \u001B[38;5;28;01mdef\u001B[39;00m\u001B[38;5;250m \u001B[39m\u001B[38;5;21m_get_option\u001B[39m(pat: \u001B[38;5;28mstr\u001B[39m, silent: \u001B[38;5;28mbool\u001B[39m \u001B[38;5;241m=\u001B[39m \u001B[38;5;28;01mFalse\u001B[39;00m) \u001B[38;5;241m-\u001B[39m\u001B[38;5;241m>\u001B[39m Any:\n\u001B[1;32m--> 146\u001B[0m     key \u001B[38;5;241m=\u001B[39m \u001B[43m_get_single_key\u001B[49m\u001B[43m(\u001B[49m\u001B[43mpat\u001B[49m\u001B[43m,\u001B[49m\u001B[43m \u001B[49m\u001B[43msilent\u001B[49m\u001B[43m)\u001B[49m\n\u001B[0;32m    148\u001B[0m     \u001B[38;5;66;03m# walk the nested dict\u001B[39;00m\n\u001B[0;32m    149\u001B[0m     root, k \u001B[38;5;241m=\u001B[39m _get_root(key)\n",
      "File \u001B[1;32mD:\\codes\\Pycharm\\stock-insight\\.venv\\Lib\\site-packages\\pandas\\_config\\config.py:132\u001B[0m, in \u001B[0;36m_get_single_key\u001B[1;34m(pat, silent)\u001B[0m\n\u001B[0;32m    130\u001B[0m     \u001B[38;5;28;01mif\u001B[39;00m \u001B[38;5;129;01mnot\u001B[39;00m silent:\n\u001B[0;32m    131\u001B[0m         _warn_if_deprecated(pat)\n\u001B[1;32m--> 132\u001B[0m     \u001B[38;5;28;01mraise\u001B[39;00m OptionError(\u001B[38;5;124mf\u001B[39m\u001B[38;5;124m\"\u001B[39m\u001B[38;5;124mNo such keys(s): \u001B[39m\u001B[38;5;132;01m{\u001B[39;00m\u001B[38;5;28mrepr\u001B[39m(pat)\u001B[38;5;132;01m}\u001B[39;00m\u001B[38;5;124m\"\u001B[39m)\n\u001B[0;32m    133\u001B[0m \u001B[38;5;28;01mif\u001B[39;00m \u001B[38;5;28mlen\u001B[39m(keys) \u001B[38;5;241m>\u001B[39m \u001B[38;5;241m1\u001B[39m:\n\u001B[0;32m    134\u001B[0m     \u001B[38;5;28;01mraise\u001B[39;00m OptionError(\u001B[38;5;124m\"\u001B[39m\u001B[38;5;124mPattern matched multiple keys\u001B[39m\u001B[38;5;124m\"\u001B[39m)\n",
      "\u001B[1;31mOptionError\u001B[0m: No such keys(s): 'func.html.border'"
     ]
    },
    {
     "data": {
      "text/plain": [
       "           日期       开盘       收盘       最高       最低   涨跌幅     涨跌额       成交量  \\\n",
       "0  2025-02-05  2198.00  2184.16  2242.18  2169.16  1.54   33.23   6124957   \n",
       "1  2025-02-06  2292.43  2317.25  2336.56  2277.95  6.09  133.09   8984786   \n",
       "2  2025-02-07  2477.00  2508.74  2529.84  2466.59  8.26  191.49  35777016   \n",
       "\n",
       "            成交额    振幅    换手率  \n",
       "0  6.281338e+09  3.39   2.93  \n",
       "1  1.172766e+10  2.68   4.29  \n",
       "2  4.624566e+10  2.73  17.10  "
      ]
     },
     "metadata": {},
     "output_type": "display_data"
    }
   ],
   "execution_count": 3
  }
 ],
 "metadata": {
  "kernelspec": {
   "display_name": "Python 3",
   "language": "python",
   "name": "python3"
  },
  "language_info": {
   "codemirror_mode": {
    "name": "ipython",
    "version": 2
   },
   "file_extension": ".py",
   "mimetype": "text/x-python",
   "name": "python",
   "nbconvert_exporter": "python",
   "pygments_lexer": "ipython2",
   "version": "2.7.6"
  }
 },
 "nbformat": 4,
 "nbformat_minor": 5
}
