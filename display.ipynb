{
 "cells": [
  {
   "metadata": {},
   "cell_type": "markdown",
   "source": "# 一、股票相关下载",
   "id": "d29f902471dccb97"
  },
  {
   "metadata": {},
   "cell_type": "markdown",
   "source": [
    "## 1.1 获取股票 列表\n",
    "\n",
    "接口: stock_zh_a_spot\n",
    "\n",
    "目标地址: https://vip.stock.finance.sina.com.cn/mkt/#hs_a\n",
    "\n",
    "描述: 新浪财经-沪深京 A 股数据, 重复运行本函数会被新浪暂时封 IP, 建议增加时间间隔\n",
    "\n",
    "限量: 单次返回沪深京 A 股上市公司的实时行情数据\n",
    "\n",
    "输入参数: 无"
   ],
   "id": "139399321e6b889c"
  },
  {
   "metadata": {
    "ExecuteTime": {
     "end_time": "2025-01-23T14:01:50.304328Z",
     "start_time": "2025-01-23T14:01:16.579515Z"
    }
   },
   "cell_type": "code",
   "source": [
    "from django.contrib.admin import display\n",
    "import akshare as ak\n",
    "stock_list = ak.stock_zh_a_spot()\n",
    "display(stock_list)"
   ],
   "id": "59ccdb20ced6dc66",
   "outputs": [
    {
     "name": "stderr",
     "output_type": "stream",
     "text": [
      "                                                                         \r"
     ]
    },
    {
     "data": {
      "text/plain": [
       "            代码    名称     最新价   涨跌额    涨跌幅      买入      卖出      昨收      今开  \\\n",
       "0     bj430017  星昊医药   13.87  0.07  0.507   13.86   13.87   13.80   13.98   \n",
       "1     bj430047  诺思兰德   11.38 -0.21 -1.812   11.38   11.47   11.59   11.71   \n",
       "2     bj430090  同辉信息    5.81  0.04  0.693    5.81    5.82    5.77    5.85   \n",
       "3     bj430139  华岭股份   24.90 -0.62 -2.429   24.89   24.90   25.52   26.40   \n",
       "4     bj430198  微创光电   11.50 -0.10 -0.862   11.49   11.50   11.60   11.51   \n",
       "...        ...   ...     ...   ...    ...     ...     ...     ...     ...   \n",
       "5387  sz301622   英思特   68.00  1.24  1.857   68.00   68.01   66.76   67.20   \n",
       "5388  sz301626  苏州天脉   88.30 -1.20 -1.341   88.30   88.34   89.50   90.50   \n",
       "5389  sz301628  强达电路  116.22  2.17  1.903  116.22  116.31  114.05  111.11   \n",
       "5390  sz301631  壹连科技  121.98 -0.84 -0.684  121.97  121.98  122.82  124.01   \n",
       "5391  sz301633  港迪技术   89.79 -2.37 -2.572   89.70   89.79   92.16   91.81   \n",
       "\n",
       "          最高      最低         成交量          成交额       时间戳  \n",
       "0      14.23   13.87   1399591.0   19673771.0  15:30:02  \n",
       "1      11.95   11.38   1389714.0   16243846.0  15:30:02  \n",
       "2       6.18    5.80   8441210.0   50492606.0  15:30:02  \n",
       "3      26.88   24.85  10219863.0  265832233.0  15:30:02  \n",
       "4      12.10   11.23   8427035.0   98356689.0  15:30:02  \n",
       "...      ...     ...         ...          ...       ...  \n",
       "5387   69.69   66.98   5342000.0  367542336.0  15:35:00  \n",
       "5388   90.96   88.30   1287009.0  115471193.0  15:35:15  \n",
       "5389  118.79  108.88   7813173.0  886539659.0  15:35:30  \n",
       "5390  126.66  121.97   1550877.0  193279116.0  15:35:45  \n",
       "5391   92.44   89.00   1933296.0  174961899.0  15:35:00  \n",
       "\n",
       "[5392 rows x 14 columns]"
      ],
      "text/html": [
       "<div>\n",
       "<style scoped>\n",
       "    .dataframe tbody tr th:only-of-type {\n",
       "        vertical-align: middle;\n",
       "    }\n",
       "\n",
       "    .dataframe tbody tr th {\n",
       "        vertical-align: top;\n",
       "    }\n",
       "\n",
       "    .dataframe thead th {\n",
       "        text-align: right;\n",
       "    }\n",
       "</style>\n",
       "<table border=\"1\" class=\"dataframe\">\n",
       "  <thead>\n",
       "    <tr style=\"text-align: right;\">\n",
       "      <th></th>\n",
       "      <th>代码</th>\n",
       "      <th>名称</th>\n",
       "      <th>最新价</th>\n",
       "      <th>涨跌额</th>\n",
       "      <th>涨跌幅</th>\n",
       "      <th>买入</th>\n",
       "      <th>卖出</th>\n",
       "      <th>昨收</th>\n",
       "      <th>今开</th>\n",
       "      <th>最高</th>\n",
       "      <th>最低</th>\n",
       "      <th>成交量</th>\n",
       "      <th>成交额</th>\n",
       "      <th>时间戳</th>\n",
       "    </tr>\n",
       "  </thead>\n",
       "  <tbody>\n",
       "    <tr>\n",
       "      <th>0</th>\n",
       "      <td>bj430017</td>\n",
       "      <td>星昊医药</td>\n",
       "      <td>13.87</td>\n",
       "      <td>0.07</td>\n",
       "      <td>0.507</td>\n",
       "      <td>13.86</td>\n",
       "      <td>13.87</td>\n",
       "      <td>13.80</td>\n",
       "      <td>13.98</td>\n",
       "      <td>14.23</td>\n",
       "      <td>13.87</td>\n",
       "      <td>1399591.0</td>\n",
       "      <td>19673771.0</td>\n",
       "      <td>15:30:02</td>\n",
       "    </tr>\n",
       "    <tr>\n",
       "      <th>1</th>\n",
       "      <td>bj430047</td>\n",
       "      <td>诺思兰德</td>\n",
       "      <td>11.38</td>\n",
       "      <td>-0.21</td>\n",
       "      <td>-1.812</td>\n",
       "      <td>11.38</td>\n",
       "      <td>11.47</td>\n",
       "      <td>11.59</td>\n",
       "      <td>11.71</td>\n",
       "      <td>11.95</td>\n",
       "      <td>11.38</td>\n",
       "      <td>1389714.0</td>\n",
       "      <td>16243846.0</td>\n",
       "      <td>15:30:02</td>\n",
       "    </tr>\n",
       "    <tr>\n",
       "      <th>2</th>\n",
       "      <td>bj430090</td>\n",
       "      <td>同辉信息</td>\n",
       "      <td>5.81</td>\n",
       "      <td>0.04</td>\n",
       "      <td>0.693</td>\n",
       "      <td>5.81</td>\n",
       "      <td>5.82</td>\n",
       "      <td>5.77</td>\n",
       "      <td>5.85</td>\n",
       "      <td>6.18</td>\n",
       "      <td>5.80</td>\n",
       "      <td>8441210.0</td>\n",
       "      <td>50492606.0</td>\n",
       "      <td>15:30:02</td>\n",
       "    </tr>\n",
       "    <tr>\n",
       "      <th>3</th>\n",
       "      <td>bj430139</td>\n",
       "      <td>华岭股份</td>\n",
       "      <td>24.90</td>\n",
       "      <td>-0.62</td>\n",
       "      <td>-2.429</td>\n",
       "      <td>24.89</td>\n",
       "      <td>24.90</td>\n",
       "      <td>25.52</td>\n",
       "      <td>26.40</td>\n",
       "      <td>26.88</td>\n",
       "      <td>24.85</td>\n",
       "      <td>10219863.0</td>\n",
       "      <td>265832233.0</td>\n",
       "      <td>15:30:02</td>\n",
       "    </tr>\n",
       "    <tr>\n",
       "      <th>4</th>\n",
       "      <td>bj430198</td>\n",
       "      <td>微创光电</td>\n",
       "      <td>11.50</td>\n",
       "      <td>-0.10</td>\n",
       "      <td>-0.862</td>\n",
       "      <td>11.49</td>\n",
       "      <td>11.50</td>\n",
       "      <td>11.60</td>\n",
       "      <td>11.51</td>\n",
       "      <td>12.10</td>\n",
       "      <td>11.23</td>\n",
       "      <td>8427035.0</td>\n",
       "      <td>98356689.0</td>\n",
       "      <td>15:30:02</td>\n",
       "    </tr>\n",
       "    <tr>\n",
       "      <th>...</th>\n",
       "      <td>...</td>\n",
       "      <td>...</td>\n",
       "      <td>...</td>\n",
       "      <td>...</td>\n",
       "      <td>...</td>\n",
       "      <td>...</td>\n",
       "      <td>...</td>\n",
       "      <td>...</td>\n",
       "      <td>...</td>\n",
       "      <td>...</td>\n",
       "      <td>...</td>\n",
       "      <td>...</td>\n",
       "      <td>...</td>\n",
       "      <td>...</td>\n",
       "    </tr>\n",
       "    <tr>\n",
       "      <th>5387</th>\n",
       "      <td>sz301622</td>\n",
       "      <td>英思特</td>\n",
       "      <td>68.00</td>\n",
       "      <td>1.24</td>\n",
       "      <td>1.857</td>\n",
       "      <td>68.00</td>\n",
       "      <td>68.01</td>\n",
       "      <td>66.76</td>\n",
       "      <td>67.20</td>\n",
       "      <td>69.69</td>\n",
       "      <td>66.98</td>\n",
       "      <td>5342000.0</td>\n",
       "      <td>367542336.0</td>\n",
       "      <td>15:35:00</td>\n",
       "    </tr>\n",
       "    <tr>\n",
       "      <th>5388</th>\n",
       "      <td>sz301626</td>\n",
       "      <td>苏州天脉</td>\n",
       "      <td>88.30</td>\n",
       "      <td>-1.20</td>\n",
       "      <td>-1.341</td>\n",
       "      <td>88.30</td>\n",
       "      <td>88.34</td>\n",
       "      <td>89.50</td>\n",
       "      <td>90.50</td>\n",
       "      <td>90.96</td>\n",
       "      <td>88.30</td>\n",
       "      <td>1287009.0</td>\n",
       "      <td>115471193.0</td>\n",
       "      <td>15:35:15</td>\n",
       "    </tr>\n",
       "    <tr>\n",
       "      <th>5389</th>\n",
       "      <td>sz301628</td>\n",
       "      <td>强达电路</td>\n",
       "      <td>116.22</td>\n",
       "      <td>2.17</td>\n",
       "      <td>1.903</td>\n",
       "      <td>116.22</td>\n",
       "      <td>116.31</td>\n",
       "      <td>114.05</td>\n",
       "      <td>111.11</td>\n",
       "      <td>118.79</td>\n",
       "      <td>108.88</td>\n",
       "      <td>7813173.0</td>\n",
       "      <td>886539659.0</td>\n",
       "      <td>15:35:30</td>\n",
       "    </tr>\n",
       "    <tr>\n",
       "      <th>5390</th>\n",
       "      <td>sz301631</td>\n",
       "      <td>壹连科技</td>\n",
       "      <td>121.98</td>\n",
       "      <td>-0.84</td>\n",
       "      <td>-0.684</td>\n",
       "      <td>121.97</td>\n",
       "      <td>121.98</td>\n",
       "      <td>122.82</td>\n",
       "      <td>124.01</td>\n",
       "      <td>126.66</td>\n",
       "      <td>121.97</td>\n",
       "      <td>1550877.0</td>\n",
       "      <td>193279116.0</td>\n",
       "      <td>15:35:45</td>\n",
       "    </tr>\n",
       "    <tr>\n",
       "      <th>5391</th>\n",
       "      <td>sz301633</td>\n",
       "      <td>港迪技术</td>\n",
       "      <td>89.79</td>\n",
       "      <td>-2.37</td>\n",
       "      <td>-2.572</td>\n",
       "      <td>89.70</td>\n",
       "      <td>89.79</td>\n",
       "      <td>92.16</td>\n",
       "      <td>91.81</td>\n",
       "      <td>92.44</td>\n",
       "      <td>89.00</td>\n",
       "      <td>1933296.0</td>\n",
       "      <td>174961899.0</td>\n",
       "      <td>15:35:00</td>\n",
       "    </tr>\n",
       "  </tbody>\n",
       "</table>\n",
       "<p>5392 rows × 14 columns</p>\n",
       "</div>"
      ]
     },
     "execution_count": 4,
     "metadata": {},
     "output_type": "execute_result"
    }
   ],
   "execution_count": 4
  },
  {
   "metadata": {},
   "cell_type": "markdown",
   "source": [
    "## 1.2 获取个股 历史数据\n",
    "接口: stock_zh_a_daily\n",
    "\n",
    "目标地址: https://finance.sina.com.cn/realstock/company/sh600006/nc.shtml(示例)\n",
    "\n",
    "描述: 新浪财经-沪深京 A 股的数据, 历史数据按日频率更新;\n",
    "\n",
    "限量: 单次返回指定沪深京 A 股上市公司指定日期间的历史行情日频率数据, 多次获取容易封禁 IP\n",
    "\n",
    "输入参数\n",
    "\n",
    "| 名称         | 类型  | 描述                                                                                   |\n",
    "|------------|-----|--------------------------------------------------------------------------------------|\n",
    "| symbol     | str | symbol='sh600000'; 股票代码可以在 **ak.stock_zh_a_spot()** 中获取                              |\n",
    "| start_date | str | start_date='20201103'; 开始查询的日期                                                       |\n",
    "| end_date   | str | end_date='20201116'; 结束查询的日期                                                         |\n",
    "| adjust     | str | 默认返回不复权的数据; qfq: 返回前复权后的数据; hfq: 返回后复权后的数据; hfq-factor: 返回后复权因子; qfq-factor: 返回前复权因子 |"
   ],
   "id": "18e4e7becfa9228f"
  },
  {
   "metadata": {
    "collapsed": true,
    "ExecuteTime": {
     "end_time": "2025-01-31T13:30:47.617686Z",
     "start_time": "2025-01-31T13:30:47.540385Z"
    }
   },
   "cell_type": "code",
   "source": [
    "import akshare as ak\n",
    "\n",
    "stock_data = ak.stock_zh_a_daily(symbol=\"sz000001\", start_date=\"20250101\", end_date=\"20990101\")\n",
    "display(stock_data)"
   ],
   "id": "initial_id",
   "outputs": [
    {
     "ename": "ModuleNotFoundError",
     "evalue": "No module named 'akshare.futures.futures_hist_em'",
     "output_type": "error",
     "traceback": [
      "\u001B[1;31m---------------------------------------------------------------------------\u001B[0m",
      "\u001B[1;31mModuleNotFoundError\u001B[0m                       Traceback (most recent call last)",
      "Cell \u001B[1;32mIn[5], line 1\u001B[0m\n\u001B[1;32m----> 1\u001B[0m \u001B[38;5;28;01mimport\u001B[39;00m\u001B[38;5;250m \u001B[39m\u001B[38;5;21;01makshare\u001B[39;00m\u001B[38;5;250m \u001B[39m\u001B[38;5;28;01mas\u001B[39;00m\u001B[38;5;250m \u001B[39m\u001B[38;5;21;01mak\u001B[39;00m\n\u001B[0;32m      3\u001B[0m stock_data \u001B[38;5;241m=\u001B[39m ak\u001B[38;5;241m.\u001B[39mstock_zh_a_daily(symbol\u001B[38;5;241m=\u001B[39m\u001B[38;5;124m\"\u001B[39m\u001B[38;5;124msz000001\u001B[39m\u001B[38;5;124m\"\u001B[39m, start_date\u001B[38;5;241m=\u001B[39m\u001B[38;5;124m\"\u001B[39m\u001B[38;5;124m20250101\u001B[39m\u001B[38;5;124m\"\u001B[39m, end_date\u001B[38;5;241m=\u001B[39m\u001B[38;5;124m\"\u001B[39m\u001B[38;5;124m20990101\u001B[39m\u001B[38;5;124m\"\u001B[39m)\n\u001B[0;32m      4\u001B[0m display(stock_data)\n",
      "File \u001B[1;32mD:\\codes\\Pycharm\\stock-insight\\.venv\\Lib\\site-packages\\akshare\\__init__.py:3020\u001B[0m\n\u001B[0;32m   3015\u001B[0m \u001B[38;5;28;01mdel\u001B[39;00m sys\n\u001B[0;32m   3017\u001B[0m \u001B[38;5;124;03m\"\"\"\u001B[39;00m\n\u001B[0;32m   3018\u001B[0m \u001B[38;5;124;03m期货行情-内盘-历史行情数据-东财\u001B[39;00m\n\u001B[0;32m   3019\u001B[0m \u001B[38;5;124;03m\"\"\"\u001B[39;00m\n\u001B[1;32m-> 3020\u001B[0m \u001B[38;5;28;01mfrom\u001B[39;00m\u001B[38;5;250m \u001B[39m\u001B[38;5;21;01makshare\u001B[39;00m\u001B[38;5;21;01m.\u001B[39;00m\u001B[38;5;21;01mfutures\u001B[39;00m\u001B[38;5;21;01m.\u001B[39;00m\u001B[38;5;21;01mfutures_hist_em\u001B[39;00m\u001B[38;5;250m \u001B[39m\u001B[38;5;28;01mimport\u001B[39;00m futures_hist_table_em, futures_hist_em\n\u001B[0;32m   3022\u001B[0m \u001B[38;5;124;03m\"\"\"\u001B[39;00m\n\u001B[0;32m   3023\u001B[0m \u001B[38;5;124;03m巨潮资讯-数据中心-专题统计-股东股本-股本变动\u001B[39;00m\n\u001B[0;32m   3024\u001B[0m \u001B[38;5;124;03m\"\"\"\u001B[39;00m\n\u001B[0;32m   3025\u001B[0m \u001B[38;5;28;01mfrom\u001B[39;00m\u001B[38;5;250m \u001B[39m\u001B[38;5;21;01makshare\u001B[39;00m\u001B[38;5;21;01m.\u001B[39;00m\u001B[38;5;21;01mstock\u001B[39;00m\u001B[38;5;21;01m.\u001B[39;00m\u001B[38;5;21;01mstock_hold_control_cninfo\u001B[39;00m\u001B[38;5;250m \u001B[39m\u001B[38;5;28;01mimport\u001B[39;00m stock_hold_change_cninfo\n",
      "\u001B[1;31mModuleNotFoundError\u001B[0m: No module named 'akshare.futures.futures_hist_em'"
     ]
    }
   ],
   "execution_count": 5
  },
  {
   "metadata": {
    "ExecuteTime": {
     "end_time": "2025-01-24T03:30:01.211138Z",
     "start_time": "2025-01-24T03:30:01.207518Z"
    }
   },
   "cell_type": "code",
   "source": [
    "display(stock_data.columns)\n",
    "print(stock_data.dtypes)"
   ],
   "id": "2301cef1fe8619c2",
   "outputs": [
    {
     "name": "stdout",
     "output_type": "stream",
     "text": [
      "date                  object\n",
      "open                 float64\n",
      "high                 float64\n",
      "low                  float64\n",
      "close                float64\n",
      "volume               float64\n",
      "amount               float64\n",
      "outstanding_share    float64\n",
      "turnover             float64\n",
      "dtype: object\n"
     ]
    }
   ],
   "execution_count": 5
  },
  {
   "metadata": {},
   "cell_type": "markdown",
   "source": [
    "# 二、 指数相关下载\n",
    "## 2.1 获取指数 列表\n",
    "\n",
    "实时行情数据-新浪\n",
    "接口: stock_zh_index_spot_sina\n",
    "\n",
    "目标地址: https://vip.stock.finance.sina.com.cn/mkt/#hs_s\n",
    "\n",
    "描述: 新浪财经-中国股票指数数据\n",
    "\n",
    "限量: 单次返回所有指数的实时行情数据"
   ],
   "id": "54e2c9479fcaeae3"
  },
  {
   "metadata": {
    "ExecuteTime": {
     "end_time": "2025-02-01T12:45:59.303003Z",
     "start_time": "2025-02-01T12:45:55.765054Z"
    }
   },
   "cell_type": "code",
   "source": [
    "import akshare as ak\n",
    "\n",
    "stock_zh_index_spot_sina_df = ak.stock_zh_index_spot_sina()\n",
    "display(stock_zh_index_spot_sina_df)"
   ],
   "id": "cc6a27e1238c684c",
   "outputs": [
    {
     "data": {
      "text/plain": [
       "  0%|          | 0/8 [00:00<?, ?it/s]"
      ],
      "application/vnd.jupyter.widget-view+json": {
       "version_major": 2,
       "version_minor": 0,
       "model_id": "8f5463cd75204c3c860b7e691f8f9fbe"
      }
     },
     "metadata": {},
     "output_type": "display_data"
    },
    {
     "ename": "OptionError",
     "evalue": "No such keys(s): 'func.html.border'",
     "output_type": "error",
     "traceback": [
      "\u001B[1;31m---------------------------------------------------------------------------\u001B[0m",
      "\u001B[1;31mOptionError\u001B[0m                               Traceback (most recent call last)",
      "File \u001B[1;32mD:\\codes\\Pycharm\\stock-insight\\.venv\\Lib\\site-packages\\IPython\\core\\formatters.py:406\u001B[0m, in \u001B[0;36mBaseFormatter.__call__\u001B[1;34m(self, obj)\u001B[0m\n\u001B[0;32m    404\u001B[0m     method \u001B[38;5;241m=\u001B[39m get_real_method(obj, \u001B[38;5;28mself\u001B[39m\u001B[38;5;241m.\u001B[39mprint_method)\n\u001B[0;32m    405\u001B[0m     \u001B[38;5;28;01mif\u001B[39;00m method \u001B[38;5;129;01mis\u001B[39;00m \u001B[38;5;129;01mnot\u001B[39;00m \u001B[38;5;28;01mNone\u001B[39;00m:\n\u001B[1;32m--> 406\u001B[0m         \u001B[38;5;28;01mreturn\u001B[39;00m \u001B[43mmethod\u001B[49m\u001B[43m(\u001B[49m\u001B[43m)\u001B[49m\n\u001B[0;32m    407\u001B[0m     \u001B[38;5;28;01mreturn\u001B[39;00m \u001B[38;5;28;01mNone\u001B[39;00m\n\u001B[0;32m    408\u001B[0m \u001B[38;5;28;01melse\u001B[39;00m:\n",
      "File \u001B[1;32mD:\\codes\\Pycharm\\stock-insight\\.venv\\Lib\\site-packages\\pandas\\core\\frame.py:1256\u001B[0m, in \u001B[0;36mDataFrame._repr_html_\u001B[1;34m(self)\u001B[0m\n\u001B[0;32m   1234\u001B[0m     show_dimensions \u001B[38;5;241m=\u001B[39m get_option(\u001B[38;5;124m\"\u001B[39m\u001B[38;5;124mdisplay.show_dimensions\u001B[39m\u001B[38;5;124m\"\u001B[39m)\n\u001B[0;32m   1236\u001B[0m     formatter \u001B[38;5;241m=\u001B[39m fmt\u001B[38;5;241m.\u001B[39mDataFrameFormatter(\n\u001B[0;32m   1237\u001B[0m         \u001B[38;5;28mself\u001B[39m,\n\u001B[0;32m   1238\u001B[0m         columns\u001B[38;5;241m=\u001B[39m\u001B[38;5;28;01mNone\u001B[39;00m,\n\u001B[1;32m   (...)\u001B[0m\n\u001B[0;32m   1254\u001B[0m         decimal\u001B[38;5;241m=\u001B[39m\u001B[38;5;124m\"\u001B[39m\u001B[38;5;124m.\u001B[39m\u001B[38;5;124m\"\u001B[39m,\n\u001B[0;32m   1255\u001B[0m     )\n\u001B[1;32m-> 1256\u001B[0m     \u001B[38;5;28;01mreturn\u001B[39;00m \u001B[43mfmt\u001B[49m\u001B[38;5;241;43m.\u001B[39;49m\u001B[43mDataFrameRenderer\u001B[49m\u001B[43m(\u001B[49m\u001B[43mformatter\u001B[49m\u001B[43m)\u001B[49m\u001B[38;5;241;43m.\u001B[39;49m\u001B[43mto_html\u001B[49m\u001B[43m(\u001B[49m\u001B[43mnotebook\u001B[49m\u001B[38;5;241;43m=\u001B[39;49m\u001B[38;5;28;43;01mTrue\u001B[39;49;00m\u001B[43m)\u001B[49m\n\u001B[0;32m   1257\u001B[0m \u001B[38;5;28;01melse\u001B[39;00m:\n\u001B[0;32m   1258\u001B[0m     \u001B[38;5;28;01mreturn\u001B[39;00m \u001B[38;5;28;01mNone\u001B[39;00m\n",
      "File \u001B[1;32mD:\\codes\\Pycharm\\stock-insight\\.venv\\Lib\\site-packages\\pandas\\io\\formats\\format.py:929\u001B[0m, in \u001B[0;36mDataFrameRenderer.to_html\u001B[1;34m(self, buf, encoding, classes, notebook, border, table_id, render_links)\u001B[0m\n\u001B[0;32m    922\u001B[0m \u001B[38;5;28;01mfrom\u001B[39;00m\u001B[38;5;250m \u001B[39m\u001B[38;5;21;01mpandas\u001B[39;00m\u001B[38;5;21;01m.\u001B[39;00m\u001B[38;5;21;01mio\u001B[39;00m\u001B[38;5;21;01m.\u001B[39;00m\u001B[38;5;21;01mformats\u001B[39;00m\u001B[38;5;21;01m.\u001B[39;00m\u001B[38;5;21;01mhtml\u001B[39;00m\u001B[38;5;250m \u001B[39m\u001B[38;5;28;01mimport\u001B[39;00m (\n\u001B[0;32m    923\u001B[0m     HTMLFormatter,\n\u001B[0;32m    924\u001B[0m     NotebookFormatter,\n\u001B[0;32m    925\u001B[0m )\n\u001B[0;32m    927\u001B[0m Klass \u001B[38;5;241m=\u001B[39m NotebookFormatter \u001B[38;5;28;01mif\u001B[39;00m notebook \u001B[38;5;28;01melse\u001B[39;00m HTMLFormatter\n\u001B[1;32m--> 929\u001B[0m html_formatter \u001B[38;5;241m=\u001B[39m \u001B[43mKlass\u001B[49m\u001B[43m(\u001B[49m\n\u001B[0;32m    930\u001B[0m \u001B[43m    \u001B[49m\u001B[38;5;28;43mself\u001B[39;49m\u001B[38;5;241;43m.\u001B[39;49m\u001B[43mfmt\u001B[49m\u001B[43m,\u001B[49m\n\u001B[0;32m    931\u001B[0m \u001B[43m    \u001B[49m\u001B[43mclasses\u001B[49m\u001B[38;5;241;43m=\u001B[39;49m\u001B[43mclasses\u001B[49m\u001B[43m,\u001B[49m\n\u001B[0;32m    932\u001B[0m \u001B[43m    \u001B[49m\u001B[43mborder\u001B[49m\u001B[38;5;241;43m=\u001B[39;49m\u001B[43mborder\u001B[49m\u001B[43m,\u001B[49m\n\u001B[0;32m    933\u001B[0m \u001B[43m    \u001B[49m\u001B[43mtable_id\u001B[49m\u001B[38;5;241;43m=\u001B[39;49m\u001B[43mtable_id\u001B[49m\u001B[43m,\u001B[49m\n\u001B[0;32m    934\u001B[0m \u001B[43m    \u001B[49m\u001B[43mrender_links\u001B[49m\u001B[38;5;241;43m=\u001B[39;49m\u001B[43mrender_links\u001B[49m\u001B[43m,\u001B[49m\n\u001B[0;32m    935\u001B[0m \u001B[43m\u001B[49m\u001B[43m)\u001B[49m\n\u001B[0;32m    936\u001B[0m string \u001B[38;5;241m=\u001B[39m html_formatter\u001B[38;5;241m.\u001B[39mto_string()\n\u001B[0;32m    937\u001B[0m \u001B[38;5;28;01mreturn\u001B[39;00m save_to_buffer(string, buf\u001B[38;5;241m=\u001B[39mbuf, encoding\u001B[38;5;241m=\u001B[39mencoding)\n",
      "File \u001B[1;32mD:\\codes\\Pycharm\\stock-insight\\.venv\\Lib\\site-packages\\pandas\\io\\formats\\html.py:68\u001B[0m, in \u001B[0;36mHTMLFormatter.__init__\u001B[1;34m(self, formatter, classes, border, table_id, render_links)\u001B[0m\n\u001B[0;32m     66\u001B[0m \u001B[38;5;28mself\u001B[39m\u001B[38;5;241m.\u001B[39mshow_dimensions \u001B[38;5;241m=\u001B[39m \u001B[38;5;28mself\u001B[39m\u001B[38;5;241m.\u001B[39mfmt\u001B[38;5;241m.\u001B[39mshow_dimensions\n\u001B[0;32m     67\u001B[0m \u001B[38;5;28;01mif\u001B[39;00m border \u001B[38;5;129;01mis\u001B[39;00m \u001B[38;5;28;01mNone\u001B[39;00m \u001B[38;5;129;01mor\u001B[39;00m border \u001B[38;5;129;01mis\u001B[39;00m \u001B[38;5;28;01mTrue\u001B[39;00m:\n\u001B[1;32m---> 68\u001B[0m     border \u001B[38;5;241m=\u001B[39m cast(\u001B[38;5;28mint\u001B[39m, \u001B[43mget_option\u001B[49m\u001B[43m(\u001B[49m\u001B[38;5;124;43m\"\u001B[39;49m\u001B[38;5;124;43mfunc.html.border\u001B[39;49m\u001B[38;5;124;43m\"\u001B[39;49m\u001B[43m)\u001B[49m)\n\u001B[0;32m     69\u001B[0m \u001B[38;5;28;01melif\u001B[39;00m \u001B[38;5;129;01mnot\u001B[39;00m border:\n\u001B[0;32m     70\u001B[0m     border \u001B[38;5;241m=\u001B[39m \u001B[38;5;28;01mNone\u001B[39;00m\n",
      "File \u001B[1;32mD:\\codes\\Pycharm\\stock-insight\\.venv\\Lib\\site-packages\\pandas\\_config\\config.py:274\u001B[0m, in \u001B[0;36mCallableDynamicDoc.__call__\u001B[1;34m(self, *args, **kwds)\u001B[0m\n\u001B[0;32m    273\u001B[0m \u001B[38;5;28;01mdef\u001B[39;00m\u001B[38;5;250m \u001B[39m\u001B[38;5;21m__call__\u001B[39m(\u001B[38;5;28mself\u001B[39m, \u001B[38;5;241m*\u001B[39margs, \u001B[38;5;241m*\u001B[39m\u001B[38;5;241m*\u001B[39mkwds) \u001B[38;5;241m-\u001B[39m\u001B[38;5;241m>\u001B[39m T:\n\u001B[1;32m--> 274\u001B[0m     \u001B[38;5;28;01mreturn\u001B[39;00m \u001B[38;5;28;43mself\u001B[39;49m\u001B[38;5;241;43m.\u001B[39;49m\u001B[38;5;18;43m__func__\u001B[39;49m\u001B[43m(\u001B[49m\u001B[38;5;241;43m*\u001B[39;49m\u001B[43margs\u001B[49m\u001B[43m,\u001B[49m\u001B[43m \u001B[49m\u001B[38;5;241;43m*\u001B[39;49m\u001B[38;5;241;43m*\u001B[39;49m\u001B[43mkwds\u001B[49m\u001B[43m)\u001B[49m\n",
      "File \u001B[1;32mD:\\codes\\Pycharm\\stock-insight\\.venv\\Lib\\site-packages\\pandas\\_config\\config.py:146\u001B[0m, in \u001B[0;36m_get_option\u001B[1;34m(pat, silent)\u001B[0m\n\u001B[0;32m    145\u001B[0m \u001B[38;5;28;01mdef\u001B[39;00m\u001B[38;5;250m \u001B[39m\u001B[38;5;21m_get_option\u001B[39m(pat: \u001B[38;5;28mstr\u001B[39m, silent: \u001B[38;5;28mbool\u001B[39m \u001B[38;5;241m=\u001B[39m \u001B[38;5;28;01mFalse\u001B[39;00m) \u001B[38;5;241m-\u001B[39m\u001B[38;5;241m>\u001B[39m Any:\n\u001B[1;32m--> 146\u001B[0m     key \u001B[38;5;241m=\u001B[39m \u001B[43m_get_single_key\u001B[49m\u001B[43m(\u001B[49m\u001B[43mpat\u001B[49m\u001B[43m,\u001B[49m\u001B[43m \u001B[49m\u001B[43msilent\u001B[49m\u001B[43m)\u001B[49m\n\u001B[0;32m    148\u001B[0m     \u001B[38;5;66;03m# walk the nested dict\u001B[39;00m\n\u001B[0;32m    149\u001B[0m     root, k \u001B[38;5;241m=\u001B[39m _get_root(key)\n",
      "File \u001B[1;32mD:\\codes\\Pycharm\\stock-insight\\.venv\\Lib\\site-packages\\pandas\\_config\\config.py:132\u001B[0m, in \u001B[0;36m_get_single_key\u001B[1;34m(pat, silent)\u001B[0m\n\u001B[0;32m    130\u001B[0m     \u001B[38;5;28;01mif\u001B[39;00m \u001B[38;5;129;01mnot\u001B[39;00m silent:\n\u001B[0;32m    131\u001B[0m         _warn_if_deprecated(pat)\n\u001B[1;32m--> 132\u001B[0m     \u001B[38;5;28;01mraise\u001B[39;00m OptionError(\u001B[38;5;124mf\u001B[39m\u001B[38;5;124m\"\u001B[39m\u001B[38;5;124mNo such keys(s): \u001B[39m\u001B[38;5;132;01m{\u001B[39;00m\u001B[38;5;28mrepr\u001B[39m(pat)\u001B[38;5;132;01m}\u001B[39;00m\u001B[38;5;124m\"\u001B[39m)\n\u001B[0;32m    133\u001B[0m \u001B[38;5;28;01mif\u001B[39;00m \u001B[38;5;28mlen\u001B[39m(keys) \u001B[38;5;241m>\u001B[39m \u001B[38;5;241m1\u001B[39m:\n\u001B[0;32m    134\u001B[0m     \u001B[38;5;28;01mraise\u001B[39;00m OptionError(\u001B[38;5;124m\"\u001B[39m\u001B[38;5;124mPattern matched multiple keys\u001B[39m\u001B[38;5;124m\"\u001B[39m)\n",
      "\u001B[1;31mOptionError\u001B[0m: No such keys(s): 'func.html.border'"
     ]
    },
    {
     "data": {
      "text/plain": [
       "           代码      名称        最新价      涨跌额    涨跌幅         昨收         今开  \\\n",
       "0    sh000001    上证指数  3250.6007   -2.026 -0.062  3252.6264  3256.6136   \n",
       "1    sh000002    Ａ股指数  3406.9776   -2.030 -0.060  3409.0079  3413.2984   \n",
       "2    sh000003    Ｂ股指数   264.9297   -0.548 -0.207   265.4780   265.6363   \n",
       "3    sh000004    工业指数  2794.7643  -15.649 -0.557  2810.4132  2811.2840   \n",
       "4    sh000005    商业指数  2535.2498   -8.601 -0.338  2543.8511  2548.3492   \n",
       "..        ...     ...        ...      ...    ...        ...        ...   \n",
       "557  sz980030    消费电子  5488.2300 -107.952 -1.929  5596.1820  5589.7600   \n",
       "558  sz980032    新能电池  9501.8450 -130.183 -1.352  9632.0280  9629.7050   \n",
       "559  sz980035    化肥农药  1568.0980   14.973  0.964  1553.1250  1559.4470   \n",
       "560  sz980076    通用航空  2726.6820  -47.161 -1.700  2773.8430  2776.3630   \n",
       "561  sz980092  CNIFCF  4589.5800  -11.470 -0.249  4601.0500  4603.1210   \n",
       "\n",
       "            最高         最低         成交量           成交额  \n",
       "0    3274.3924  3250.6007   387467642  450231535760  \n",
       "1    3431.9837  3406.9776   387167031  449499858241  \n",
       "2     266.4734   264.3540      170970      77109764  \n",
       "3    2823.6397  2794.7643   226453969  325952560187  \n",
       "4    2563.1985  2535.2498    33313661   29523288203  \n",
       "..         ...        ...         ...           ...  \n",
       "557  5589.7600  5488.2300  1868788191   46066745910  \n",
       "558  9690.2790  9501.8450   521924065   17044693202  \n",
       "559  1584.7560  1559.4470  1285868940   11792079292  \n",
       "560  2786.9820  2726.6820   590075266   11760100663  \n",
       "561  4629.7450  4589.2150  3228569273   33038790110  \n",
       "\n",
       "[562 rows x 11 columns]"
      ]
     },
     "metadata": {},
     "output_type": "display_data"
    }
   ],
   "execution_count": 3
  },
  {
   "metadata": {
    "ExecuteTime": {
     "end_time": "2025-01-26T02:21:57.625348Z",
     "start_time": "2025-01-26T02:21:57.467068Z"
    }
   },
   "cell_type": "code",
   "source": [
    "# 东财获取指数的方法\n",
    "import akshare as ak\n",
    "df = ak.stock_zh_index_spot_em(symbol=\"沪深重要指数\")\n",
    "display(df)"
   ],
   "id": "420be6c7c2f42b33",
   "outputs": [
    {
     "ename": "OptionError",
     "evalue": "No such keys(s): 'func.html.border'",
     "output_type": "error",
     "traceback": [
      "\u001B[1;31m---------------------------------------------------------------------------\u001B[0m",
      "\u001B[1;31mOptionError\u001B[0m                               Traceback (most recent call last)",
      "File \u001B[1;32mD:\\codes\\Pycharm\\stock-insight\\.venv\\Lib\\site-packages\\IPython\\core\\formatters.py:406\u001B[0m, in \u001B[0;36mBaseFormatter.__call__\u001B[1;34m(self, obj)\u001B[0m\n\u001B[0;32m    404\u001B[0m     method \u001B[38;5;241m=\u001B[39m get_real_method(obj, \u001B[38;5;28mself\u001B[39m\u001B[38;5;241m.\u001B[39mprint_method)\n\u001B[0;32m    405\u001B[0m     \u001B[38;5;28;01mif\u001B[39;00m method \u001B[38;5;129;01mis\u001B[39;00m \u001B[38;5;129;01mnot\u001B[39;00m \u001B[38;5;28;01mNone\u001B[39;00m:\n\u001B[1;32m--> 406\u001B[0m         \u001B[38;5;28;01mreturn\u001B[39;00m \u001B[43mmethod\u001B[49m\u001B[43m(\u001B[49m\u001B[43m)\u001B[49m\n\u001B[0;32m    407\u001B[0m     \u001B[38;5;28;01mreturn\u001B[39;00m \u001B[38;5;28;01mNone\u001B[39;00m\n\u001B[0;32m    408\u001B[0m \u001B[38;5;28;01melse\u001B[39;00m:\n",
      "File \u001B[1;32mD:\\codes\\Pycharm\\stock-insight\\.venv\\Lib\\site-packages\\pandas\\core\\frame.py:1256\u001B[0m, in \u001B[0;36mDataFrame._repr_html_\u001B[1;34m(self)\u001B[0m\n\u001B[0;32m   1234\u001B[0m     show_dimensions \u001B[38;5;241m=\u001B[39m get_option(\u001B[38;5;124m\"\u001B[39m\u001B[38;5;124mdisplay.show_dimensions\u001B[39m\u001B[38;5;124m\"\u001B[39m)\n\u001B[0;32m   1236\u001B[0m     formatter \u001B[38;5;241m=\u001B[39m fmt\u001B[38;5;241m.\u001B[39mDataFrameFormatter(\n\u001B[0;32m   1237\u001B[0m         \u001B[38;5;28mself\u001B[39m,\n\u001B[0;32m   1238\u001B[0m         columns\u001B[38;5;241m=\u001B[39m\u001B[38;5;28;01mNone\u001B[39;00m,\n\u001B[1;32m   (...)\u001B[0m\n\u001B[0;32m   1254\u001B[0m         decimal\u001B[38;5;241m=\u001B[39m\u001B[38;5;124m\"\u001B[39m\u001B[38;5;124m.\u001B[39m\u001B[38;5;124m\"\u001B[39m,\n\u001B[0;32m   1255\u001B[0m     )\n\u001B[1;32m-> 1256\u001B[0m     \u001B[38;5;28;01mreturn\u001B[39;00m \u001B[43mfmt\u001B[49m\u001B[38;5;241;43m.\u001B[39;49m\u001B[43mDataFrameRenderer\u001B[49m\u001B[43m(\u001B[49m\u001B[43mformatter\u001B[49m\u001B[43m)\u001B[49m\u001B[38;5;241;43m.\u001B[39;49m\u001B[43mto_html\u001B[49m\u001B[43m(\u001B[49m\u001B[43mnotebook\u001B[49m\u001B[38;5;241;43m=\u001B[39;49m\u001B[38;5;28;43;01mTrue\u001B[39;49;00m\u001B[43m)\u001B[49m\n\u001B[0;32m   1257\u001B[0m \u001B[38;5;28;01melse\u001B[39;00m:\n\u001B[0;32m   1258\u001B[0m     \u001B[38;5;28;01mreturn\u001B[39;00m \u001B[38;5;28;01mNone\u001B[39;00m\n",
      "File \u001B[1;32mD:\\codes\\Pycharm\\stock-insight\\.venv\\Lib\\site-packages\\pandas\\io\\formats\\format.py:929\u001B[0m, in \u001B[0;36mDataFrameRenderer.to_html\u001B[1;34m(self, buf, encoding, classes, notebook, border, table_id, render_links)\u001B[0m\n\u001B[0;32m    922\u001B[0m \u001B[38;5;28;01mfrom\u001B[39;00m\u001B[38;5;250m \u001B[39m\u001B[38;5;21;01mpandas\u001B[39;00m\u001B[38;5;21;01m.\u001B[39;00m\u001B[38;5;21;01mio\u001B[39;00m\u001B[38;5;21;01m.\u001B[39;00m\u001B[38;5;21;01mformats\u001B[39;00m\u001B[38;5;21;01m.\u001B[39;00m\u001B[38;5;21;01mhtml\u001B[39;00m\u001B[38;5;250m \u001B[39m\u001B[38;5;28;01mimport\u001B[39;00m (\n\u001B[0;32m    923\u001B[0m     HTMLFormatter,\n\u001B[0;32m    924\u001B[0m     NotebookFormatter,\n\u001B[0;32m    925\u001B[0m )\n\u001B[0;32m    927\u001B[0m Klass \u001B[38;5;241m=\u001B[39m NotebookFormatter \u001B[38;5;28;01mif\u001B[39;00m notebook \u001B[38;5;28;01melse\u001B[39;00m HTMLFormatter\n\u001B[1;32m--> 929\u001B[0m html_formatter \u001B[38;5;241m=\u001B[39m \u001B[43mKlass\u001B[49m\u001B[43m(\u001B[49m\n\u001B[0;32m    930\u001B[0m \u001B[43m    \u001B[49m\u001B[38;5;28;43mself\u001B[39;49m\u001B[38;5;241;43m.\u001B[39;49m\u001B[43mfmt\u001B[49m\u001B[43m,\u001B[49m\n\u001B[0;32m    931\u001B[0m \u001B[43m    \u001B[49m\u001B[43mclasses\u001B[49m\u001B[38;5;241;43m=\u001B[39;49m\u001B[43mclasses\u001B[49m\u001B[43m,\u001B[49m\n\u001B[0;32m    932\u001B[0m \u001B[43m    \u001B[49m\u001B[43mborder\u001B[49m\u001B[38;5;241;43m=\u001B[39;49m\u001B[43mborder\u001B[49m\u001B[43m,\u001B[49m\n\u001B[0;32m    933\u001B[0m \u001B[43m    \u001B[49m\u001B[43mtable_id\u001B[49m\u001B[38;5;241;43m=\u001B[39;49m\u001B[43mtable_id\u001B[49m\u001B[43m,\u001B[49m\n\u001B[0;32m    934\u001B[0m \u001B[43m    \u001B[49m\u001B[43mrender_links\u001B[49m\u001B[38;5;241;43m=\u001B[39;49m\u001B[43mrender_links\u001B[49m\u001B[43m,\u001B[49m\n\u001B[0;32m    935\u001B[0m \u001B[43m\u001B[49m\u001B[43m)\u001B[49m\n\u001B[0;32m    936\u001B[0m string \u001B[38;5;241m=\u001B[39m html_formatter\u001B[38;5;241m.\u001B[39mto_string()\n\u001B[0;32m    937\u001B[0m \u001B[38;5;28;01mreturn\u001B[39;00m save_to_buffer(string, buf\u001B[38;5;241m=\u001B[39mbuf, encoding\u001B[38;5;241m=\u001B[39mencoding)\n",
      "File \u001B[1;32mD:\\codes\\Pycharm\\stock-insight\\.venv\\Lib\\site-packages\\pandas\\io\\formats\\html.py:68\u001B[0m, in \u001B[0;36mHTMLFormatter.__init__\u001B[1;34m(self, formatter, classes, border, table_id, render_links)\u001B[0m\n\u001B[0;32m     66\u001B[0m \u001B[38;5;28mself\u001B[39m\u001B[38;5;241m.\u001B[39mshow_dimensions \u001B[38;5;241m=\u001B[39m \u001B[38;5;28mself\u001B[39m\u001B[38;5;241m.\u001B[39mfmt\u001B[38;5;241m.\u001B[39mshow_dimensions\n\u001B[0;32m     67\u001B[0m \u001B[38;5;28;01mif\u001B[39;00m border \u001B[38;5;129;01mis\u001B[39;00m \u001B[38;5;28;01mNone\u001B[39;00m \u001B[38;5;129;01mor\u001B[39;00m border \u001B[38;5;129;01mis\u001B[39;00m \u001B[38;5;28;01mTrue\u001B[39;00m:\n\u001B[1;32m---> 68\u001B[0m     border \u001B[38;5;241m=\u001B[39m cast(\u001B[38;5;28mint\u001B[39m, \u001B[43mget_option\u001B[49m\u001B[43m(\u001B[49m\u001B[38;5;124;43m\"\u001B[39;49m\u001B[38;5;124;43mfunc.html.border\u001B[39;49m\u001B[38;5;124;43m\"\u001B[39;49m\u001B[43m)\u001B[49m)\n\u001B[0;32m     69\u001B[0m \u001B[38;5;28;01melif\u001B[39;00m \u001B[38;5;129;01mnot\u001B[39;00m border:\n\u001B[0;32m     70\u001B[0m     border \u001B[38;5;241m=\u001B[39m \u001B[38;5;28;01mNone\u001B[39;00m\n",
      "File \u001B[1;32mD:\\codes\\Pycharm\\stock-insight\\.venv\\Lib\\site-packages\\pandas\\_config\\config.py:274\u001B[0m, in \u001B[0;36mCallableDynamicDoc.__call__\u001B[1;34m(self, *args, **kwds)\u001B[0m\n\u001B[0;32m    273\u001B[0m \u001B[38;5;28;01mdef\u001B[39;00m\u001B[38;5;250m \u001B[39m\u001B[38;5;21m__call__\u001B[39m(\u001B[38;5;28mself\u001B[39m, \u001B[38;5;241m*\u001B[39margs, \u001B[38;5;241m*\u001B[39m\u001B[38;5;241m*\u001B[39mkwds) \u001B[38;5;241m-\u001B[39m\u001B[38;5;241m>\u001B[39m T:\n\u001B[1;32m--> 274\u001B[0m     \u001B[38;5;28;01mreturn\u001B[39;00m \u001B[38;5;28;43mself\u001B[39;49m\u001B[38;5;241;43m.\u001B[39;49m\u001B[38;5;18;43m__func__\u001B[39;49m\u001B[43m(\u001B[49m\u001B[38;5;241;43m*\u001B[39;49m\u001B[43margs\u001B[49m\u001B[43m,\u001B[49m\u001B[43m \u001B[49m\u001B[38;5;241;43m*\u001B[39;49m\u001B[38;5;241;43m*\u001B[39;49m\u001B[43mkwds\u001B[49m\u001B[43m)\u001B[49m\n",
      "File \u001B[1;32mD:\\codes\\Pycharm\\stock-insight\\.venv\\Lib\\site-packages\\pandas\\_config\\config.py:146\u001B[0m, in \u001B[0;36m_get_option\u001B[1;34m(pat, silent)\u001B[0m\n\u001B[0;32m    145\u001B[0m \u001B[38;5;28;01mdef\u001B[39;00m\u001B[38;5;250m \u001B[39m\u001B[38;5;21m_get_option\u001B[39m(pat: \u001B[38;5;28mstr\u001B[39m, silent: \u001B[38;5;28mbool\u001B[39m \u001B[38;5;241m=\u001B[39m \u001B[38;5;28;01mFalse\u001B[39;00m) \u001B[38;5;241m-\u001B[39m\u001B[38;5;241m>\u001B[39m Any:\n\u001B[1;32m--> 146\u001B[0m     key \u001B[38;5;241m=\u001B[39m \u001B[43m_get_single_key\u001B[49m\u001B[43m(\u001B[49m\u001B[43mpat\u001B[49m\u001B[43m,\u001B[49m\u001B[43m \u001B[49m\u001B[43msilent\u001B[49m\u001B[43m)\u001B[49m\n\u001B[0;32m    148\u001B[0m     \u001B[38;5;66;03m# walk the nested dict\u001B[39;00m\n\u001B[0;32m    149\u001B[0m     root, k \u001B[38;5;241m=\u001B[39m _get_root(key)\n",
      "File \u001B[1;32mD:\\codes\\Pycharm\\stock-insight\\.venv\\Lib\\site-packages\\pandas\\_config\\config.py:132\u001B[0m, in \u001B[0;36m_get_single_key\u001B[1;34m(pat, silent)\u001B[0m\n\u001B[0;32m    130\u001B[0m     \u001B[38;5;28;01mif\u001B[39;00m \u001B[38;5;129;01mnot\u001B[39;00m silent:\n\u001B[0;32m    131\u001B[0m         _warn_if_deprecated(pat)\n\u001B[1;32m--> 132\u001B[0m     \u001B[38;5;28;01mraise\u001B[39;00m OptionError(\u001B[38;5;124mf\u001B[39m\u001B[38;5;124m\"\u001B[39m\u001B[38;5;124mNo such keys(s): \u001B[39m\u001B[38;5;132;01m{\u001B[39;00m\u001B[38;5;28mrepr\u001B[39m(pat)\u001B[38;5;132;01m}\u001B[39;00m\u001B[38;5;124m\"\u001B[39m)\n\u001B[0;32m    133\u001B[0m \u001B[38;5;28;01mif\u001B[39;00m \u001B[38;5;28mlen\u001B[39m(keys) \u001B[38;5;241m>\u001B[39m \u001B[38;5;241m1\u001B[39m:\n\u001B[0;32m    134\u001B[0m     \u001B[38;5;28;01mraise\u001B[39;00m OptionError(\u001B[38;5;124m\"\u001B[39m\u001B[38;5;124mPattern matched multiple keys\u001B[39m\u001B[38;5;124m\"\u001B[39m)\n",
      "\u001B[1;31mOptionError\u001B[0m: No such keys(s): 'func.html.border'"
     ]
    },
    {
     "data": {
      "text/plain": [
       "    序号      代码       名称       最新价   涨跌幅     涨跌额        成交量           成交额  \\\n",
       "0    1  000001     上证指数   3252.63  0.70   22.47  398653033  4.806851e+11   \n",
       "1    2  399001     深证成指  10292.73  1.15  116.56  589944330  7.413316e+11   \n",
       "2    3  899050     北证50   1079.22  0.60    6.44    6378294  1.186400e+10   \n",
       "3    4  399006     创业板指   2121.84  1.36   28.53  200051426  3.607832e+11   \n",
       "4    5  000680     科创综指   1124.95  1.56   17.33   26768503  9.973191e+10   \n",
       "5    6  000688     科创50    974.83  0.90    8.72   26768503  9.973191e+10   \n",
       "6    7  399750    深主板50   8203.07  0.74   60.22   30826753  5.552057e+10   \n",
       "7    8  000300    沪深300   3832.86  0.77   29.12  148971722  2.964744e+11   \n",
       "8    9  000016     上证50   2579.10  0.45   11.62   37663633  7.479326e+10   \n",
       "9   10  399850     深证50   7188.15  0.81   57.77   30849463  9.173615e+10   \n",
       "10  11  000888  上证综合全收益   3635.86  0.73   26.27  398653033  4.806851e+11   \n",
       "11  12  399005    中小100   6335.93  1.36   84.95   35423634  7.001095e+10   \n",
       "12  13  930050    中证A50   1524.15  0.84   12.66   34232282  8.876061e+10   \n",
       "13  14  000903   中证A100   3628.49  0.76   27.45   64678690  1.511020e+11   \n",
       "14  15  000510   中证A500   4504.01  0.90   40.04  226679026  3.941103e+11   \n",
       "15  16  000904    中证200   4517.12  1.03   46.19   70884469  1.456732e+11   \n",
       "16  17  000905    中证500   5649.95  1.18   65.70  139438058  1.808588e+11   \n",
       "17  18  000906    中证800   4130.42  0.87   35.65  288409780  4.773332e+11   \n",
       "18  19  000852   中证1000   5938.13  1.87  109.10  208090445  2.791480e+11   \n",
       "19  20  932000   中证2000   2362.20  1.45   33.80  310345491  3.337952e+11   \n",
       "20  21  000985     中证全指   4674.23  1.09   50.60  968113802  1.209347e+12   \n",
       "21  22  000010    上证180   8365.41  0.80   66.25   95097288  1.563868e+11   \n",
       "22  23  000009    上证380   5364.22  1.32   69.98   56618399  9.521148e+10   \n",
       "23  24  000132    上证100   5126.78  1.30   65.59    8174122  2.196617e+10   \n",
       "24  25  000133    上证150   4531.11  1.55   69.24   13546246  2.127063e+10   \n",
       "25  26  000003     Ｂ股指数    265.48  0.74    1.96     188921  8.510837e+07   \n",
       "26  27  000012     国债指数    223.42 -0.02   -0.05    4090183  4.300714e+09   \n",
       "27  28  000013     企债指数    294.63  0.01    0.04    2135660  2.010535e+09   \n",
       "28  29  000011     基金指数   6718.08  0.92   61.47  952135564  1.785312e+11   \n",
       "29  30  399002     深成指R  13573.87  1.19  159.18  389669830  3.804860e+11   \n",
       "30  31  399003     成份Ｂ指   7886.10  0.46   35.77     223073  6.237059e+07   \n",
       "31  32  399106     深证综指   1936.34  1.21   23.08  589944330  7.413316e+11   \n",
       "32  33  399004   深证100R   6399.56  1.01   63.72   47427750  1.316978e+11   \n",
       "33  34  399007    深证300   4329.95  1.06   45.34  104930353  2.252774e+11   \n",
       "34  35  399008    中小300   1276.54  1.40   17.66  102684537  1.451203e+11   \n",
       "35  36  399293     创业大盘   4041.24  1.15   45.94   14488479  6.730950e+10   \n",
       "36  37  399019    创业200   3528.93  2.79   95.69   58647637  9.302406e+10   \n",
       "37  38  399020     创业小盘   1394.98  2.18   29.70   43792298  7.708357e+10   \n",
       "38  39  399100      新指数   9118.90  1.21  109.09  575362650  7.350421e+11   \n",
       "39  40  399550     央视50   7179.45  0.75   53.76   22611716  5.191563e+10   \n",
       "\n",
       "      振幅        最高        最低        今开        昨收    量比  \n",
       "0   1.19   3260.01   3221.71   3222.88   3230.16  1.00  \n",
       "1   1.71  10315.37  10141.41  10141.41  10176.17  1.00  \n",
       "2   2.38   1082.67   1057.14   1065.55   1072.78  0.91  \n",
       "3   2.27   2131.55   2084.13   2084.13   2093.31  1.10  \n",
       "4   2.02   1128.34   1106.02   1106.02   1107.62  1.04  \n",
       "5   1.48    980.43    966.09    966.09    966.11  1.04  \n",
       "6   1.35   8225.16   8115.58   8122.04   8142.85  0.95  \n",
       "7   1.42   3847.60   3793.48   3793.85   3803.74  1.03  \n",
       "8   1.37   2594.58   2559.49   2562.87   2567.48  0.96  \n",
       "9   1.65   7223.24   7105.40   7105.40   7130.38  0.89  \n",
       "10  1.19   3644.11   3601.30   3602.60   3609.59  1.00  \n",
       "11  1.73   6341.51   6233.56   6234.98   6250.98  1.13  \n",
       "12  1.66   1533.48   1508.45   1508.64   1511.49  0.98  \n",
       "13  1.46   3646.55   3594.02   3594.96   3601.04  0.97  \n",
       "14  1.51   4519.86   4452.43   4452.77   4463.97  1.05  \n",
       "15  1.41   4523.48   4460.46   4460.97   4470.93  1.02  \n",
       "16  1.61   5660.43   5570.48   5570.48   5584.25  1.04  \n",
       "17  1.45   4143.59   4084.18   4084.26   4094.77  1.04  \n",
       "18  2.19   5943.11   5815.46   5815.46   5829.03  1.04  \n",
       "19  2.08   2364.58   2316.06   2319.68   2328.40  0.97  \n",
       "20  1.49   4679.50   4610.79   4610.86   4623.63  1.00  \n",
       "21  1.38   8394.55   8280.25   8282.77   8299.16  1.08  \n",
       "22  1.62   5369.23   5283.46   5283.66   5294.24  1.02  \n",
       "23  1.84   5145.45   5052.09   5055.06   5061.19  1.01  \n",
       "24  1.95   4537.79   4451.00   4451.00   4461.87  1.03  \n",
       "25  0.89    265.49    263.14    263.64    263.52  0.86  \n",
       "26  0.05    223.49    223.38    223.49    223.47  0.50  \n",
       "27  0.01    294.64    294.62    294.62    294.59  0.36  \n",
       "28  1.22   6732.64   6651.24   6652.82   6656.61  1.04  \n",
       "29  1.71  13603.74  13374.31  13374.31  13414.69  0.96  \n",
       "30  0.69   7886.95   7832.43   7841.43   7850.33  1.19  \n",
       "31  1.62   1938.19   1907.21   1907.21   1913.26  1.00  \n",
       "32  1.71   6426.64   6318.57   6318.57   6335.84  0.96  \n",
       "33  1.69   4343.47   4271.20   4271.20   4284.61  1.03  \n",
       "34  1.79   1277.47   1254.98   1255.18   1258.88  0.98  \n",
       "35  2.16   4064.06   3977.78   3977.78   3995.30  0.99  \n",
       "36  3.26   3532.96   3420.94   3420.94   3433.24  1.22  \n",
       "37  2.54   1395.89   1361.27   1361.27   1365.28  1.05  \n",
       "38  1.62   9127.53   8981.71   8981.71   9009.81  1.00  \n",
       "39  1.48   7209.49   7104.11   7111.36   7125.69  1.00  "
      ]
     },
     "metadata": {},
     "output_type": "display_data"
    }
   ],
   "execution_count": 2
  },
  {
   "metadata": {
    "ExecuteTime": {
     "end_time": "2025-01-26T02:40:59.292448Z",
     "start_time": "2025-01-26T02:40:59.285594Z"
    }
   },
   "cell_type": "code",
   "source": [
    "# sina获取指数的方法\n",
    "display(df.columns)\n",
    "print(df.dtypes)"
   ],
   "id": "339b7903898c0679",
   "outputs": [
    {
     "data": {
      "text/plain": [
       "Index(['序号', '代码', '名称', '最新价', '涨跌幅', '涨跌额', '成交量', '成交额', '振幅', '最高', '最低',\n",
       "       '今开', '昨收', '量比'],\n",
       "      dtype='object')"
      ]
     },
     "metadata": {},
     "output_type": "display_data"
    },
    {
     "name": "stdout",
     "output_type": "stream",
     "text": [
      "序号       int64\n",
      "代码      object\n",
      "名称      object\n",
      "最新价    float64\n",
      "涨跌幅    float64\n",
      "涨跌额    float64\n",
      "成交量      int64\n",
      "成交额    float64\n",
      "振幅     float64\n",
      "最高     float64\n",
      "最低     float64\n",
      "今开     float64\n",
      "昨收     float64\n",
      "量比     float64\n",
      "dtype: object\n"
     ]
    }
   ],
   "execution_count": 8
  },
  {
   "metadata": {},
   "cell_type": "markdown",
   "source": [
    "## 2.2 获取指数 数据\n",
    "\n",
    "接口: index_zh_a_hist\n",
    "\n",
    "目标地址: http://quote.eastmoney.com/center/hszs.html\n",
    "\n",
    "描述: 东方财富网-中国股票指数-行情数据\n",
    "\n",
    "限量: 单次返回具体指数指定 period 从 start_date 到 end_date 的之间的近期数据\n",
    "\n",
    "输入参数\n",
    "\n",
    "| 名称        | 类型   | 描述                                         |\n",
    "|-------------|--------|----------------------------------------------|\n",
    "| symbol      | str    | symbol=\"399282\"; 指数代码，此处不用市场标识   |\n",
    "| period      | str    | period=\"daily\"; choice of {'daily', 'weekly', 'monthly'} |\n",
    "| start_date  | str    | start_date=\"19700101\"; 开始日期               |\n",
    "| end_date    | str    | end_date=\"22220101\"; 结束时间                 |\n",
    "\n"
   ],
   "id": "5c9b5b2810f7d9e8"
  },
  {
   "metadata": {
    "ExecuteTime": {
     "end_time": "2025-02-01T12:46:22.670450Z",
     "start_time": "2025-02-01T12:46:22.174325Z"
    }
   },
   "cell_type": "code",
   "source": [
    "import akshare as ak\n",
    "index_zh_a_hist_df = ak.index_zh_a_hist(symbol=\"980030\", period=\"daily\", start_date=\"20250103\", end_date=\"20900101\")\n",
    "display(index_zh_a_hist_df)"
   ],
   "id": "633033e8ec7c01f6",
   "outputs": [
    {
     "ename": "OptionError",
     "evalue": "No such keys(s): 'func.html.border'",
     "output_type": "error",
     "traceback": [
      "\u001B[1;31m---------------------------------------------------------------------------\u001B[0m",
      "\u001B[1;31mOptionError\u001B[0m                               Traceback (most recent call last)",
      "File \u001B[1;32mD:\\codes\\Pycharm\\stock-insight\\.venv\\Lib\\site-packages\\IPython\\core\\formatters.py:406\u001B[0m, in \u001B[0;36mBaseFormatter.__call__\u001B[1;34m(self, obj)\u001B[0m\n\u001B[0;32m    404\u001B[0m     method \u001B[38;5;241m=\u001B[39m get_real_method(obj, \u001B[38;5;28mself\u001B[39m\u001B[38;5;241m.\u001B[39mprint_method)\n\u001B[0;32m    405\u001B[0m     \u001B[38;5;28;01mif\u001B[39;00m method \u001B[38;5;129;01mis\u001B[39;00m \u001B[38;5;129;01mnot\u001B[39;00m \u001B[38;5;28;01mNone\u001B[39;00m:\n\u001B[1;32m--> 406\u001B[0m         \u001B[38;5;28;01mreturn\u001B[39;00m \u001B[43mmethod\u001B[49m\u001B[43m(\u001B[49m\u001B[43m)\u001B[49m\n\u001B[0;32m    407\u001B[0m     \u001B[38;5;28;01mreturn\u001B[39;00m \u001B[38;5;28;01mNone\u001B[39;00m\n\u001B[0;32m    408\u001B[0m \u001B[38;5;28;01melse\u001B[39;00m:\n",
      "File \u001B[1;32mD:\\codes\\Pycharm\\stock-insight\\.venv\\Lib\\site-packages\\pandas\\core\\frame.py:1256\u001B[0m, in \u001B[0;36mDataFrame._repr_html_\u001B[1;34m(self)\u001B[0m\n\u001B[0;32m   1234\u001B[0m     show_dimensions \u001B[38;5;241m=\u001B[39m get_option(\u001B[38;5;124m\"\u001B[39m\u001B[38;5;124mdisplay.show_dimensions\u001B[39m\u001B[38;5;124m\"\u001B[39m)\n\u001B[0;32m   1236\u001B[0m     formatter \u001B[38;5;241m=\u001B[39m fmt\u001B[38;5;241m.\u001B[39mDataFrameFormatter(\n\u001B[0;32m   1237\u001B[0m         \u001B[38;5;28mself\u001B[39m,\n\u001B[0;32m   1238\u001B[0m         columns\u001B[38;5;241m=\u001B[39m\u001B[38;5;28;01mNone\u001B[39;00m,\n\u001B[1;32m   (...)\u001B[0m\n\u001B[0;32m   1254\u001B[0m         decimal\u001B[38;5;241m=\u001B[39m\u001B[38;5;124m\"\u001B[39m\u001B[38;5;124m.\u001B[39m\u001B[38;5;124m\"\u001B[39m,\n\u001B[0;32m   1255\u001B[0m     )\n\u001B[1;32m-> 1256\u001B[0m     \u001B[38;5;28;01mreturn\u001B[39;00m \u001B[43mfmt\u001B[49m\u001B[38;5;241;43m.\u001B[39;49m\u001B[43mDataFrameRenderer\u001B[49m\u001B[43m(\u001B[49m\u001B[43mformatter\u001B[49m\u001B[43m)\u001B[49m\u001B[38;5;241;43m.\u001B[39;49m\u001B[43mto_html\u001B[49m\u001B[43m(\u001B[49m\u001B[43mnotebook\u001B[49m\u001B[38;5;241;43m=\u001B[39;49m\u001B[38;5;28;43;01mTrue\u001B[39;49;00m\u001B[43m)\u001B[49m\n\u001B[0;32m   1257\u001B[0m \u001B[38;5;28;01melse\u001B[39;00m:\n\u001B[0;32m   1258\u001B[0m     \u001B[38;5;28;01mreturn\u001B[39;00m \u001B[38;5;28;01mNone\u001B[39;00m\n",
      "File \u001B[1;32mD:\\codes\\Pycharm\\stock-insight\\.venv\\Lib\\site-packages\\pandas\\io\\formats\\format.py:929\u001B[0m, in \u001B[0;36mDataFrameRenderer.to_html\u001B[1;34m(self, buf, encoding, classes, notebook, border, table_id, render_links)\u001B[0m\n\u001B[0;32m    922\u001B[0m \u001B[38;5;28;01mfrom\u001B[39;00m\u001B[38;5;250m \u001B[39m\u001B[38;5;21;01mpandas\u001B[39;00m\u001B[38;5;21;01m.\u001B[39;00m\u001B[38;5;21;01mio\u001B[39;00m\u001B[38;5;21;01m.\u001B[39;00m\u001B[38;5;21;01mformats\u001B[39;00m\u001B[38;5;21;01m.\u001B[39;00m\u001B[38;5;21;01mhtml\u001B[39;00m\u001B[38;5;250m \u001B[39m\u001B[38;5;28;01mimport\u001B[39;00m (\n\u001B[0;32m    923\u001B[0m     HTMLFormatter,\n\u001B[0;32m    924\u001B[0m     NotebookFormatter,\n\u001B[0;32m    925\u001B[0m )\n\u001B[0;32m    927\u001B[0m Klass \u001B[38;5;241m=\u001B[39m NotebookFormatter \u001B[38;5;28;01mif\u001B[39;00m notebook \u001B[38;5;28;01melse\u001B[39;00m HTMLFormatter\n\u001B[1;32m--> 929\u001B[0m html_formatter \u001B[38;5;241m=\u001B[39m \u001B[43mKlass\u001B[49m\u001B[43m(\u001B[49m\n\u001B[0;32m    930\u001B[0m \u001B[43m    \u001B[49m\u001B[38;5;28;43mself\u001B[39;49m\u001B[38;5;241;43m.\u001B[39;49m\u001B[43mfmt\u001B[49m\u001B[43m,\u001B[49m\n\u001B[0;32m    931\u001B[0m \u001B[43m    \u001B[49m\u001B[43mclasses\u001B[49m\u001B[38;5;241;43m=\u001B[39;49m\u001B[43mclasses\u001B[49m\u001B[43m,\u001B[49m\n\u001B[0;32m    932\u001B[0m \u001B[43m    \u001B[49m\u001B[43mborder\u001B[49m\u001B[38;5;241;43m=\u001B[39;49m\u001B[43mborder\u001B[49m\u001B[43m,\u001B[49m\n\u001B[0;32m    933\u001B[0m \u001B[43m    \u001B[49m\u001B[43mtable_id\u001B[49m\u001B[38;5;241;43m=\u001B[39;49m\u001B[43mtable_id\u001B[49m\u001B[43m,\u001B[49m\n\u001B[0;32m    934\u001B[0m \u001B[43m    \u001B[49m\u001B[43mrender_links\u001B[49m\u001B[38;5;241;43m=\u001B[39;49m\u001B[43mrender_links\u001B[49m\u001B[43m,\u001B[49m\n\u001B[0;32m    935\u001B[0m \u001B[43m\u001B[49m\u001B[43m)\u001B[49m\n\u001B[0;32m    936\u001B[0m string \u001B[38;5;241m=\u001B[39m html_formatter\u001B[38;5;241m.\u001B[39mto_string()\n\u001B[0;32m    937\u001B[0m \u001B[38;5;28;01mreturn\u001B[39;00m save_to_buffer(string, buf\u001B[38;5;241m=\u001B[39mbuf, encoding\u001B[38;5;241m=\u001B[39mencoding)\n",
      "File \u001B[1;32mD:\\codes\\Pycharm\\stock-insight\\.venv\\Lib\\site-packages\\pandas\\io\\formats\\html.py:68\u001B[0m, in \u001B[0;36mHTMLFormatter.__init__\u001B[1;34m(self, formatter, classes, border, table_id, render_links)\u001B[0m\n\u001B[0;32m     66\u001B[0m \u001B[38;5;28mself\u001B[39m\u001B[38;5;241m.\u001B[39mshow_dimensions \u001B[38;5;241m=\u001B[39m \u001B[38;5;28mself\u001B[39m\u001B[38;5;241m.\u001B[39mfmt\u001B[38;5;241m.\u001B[39mshow_dimensions\n\u001B[0;32m     67\u001B[0m \u001B[38;5;28;01mif\u001B[39;00m border \u001B[38;5;129;01mis\u001B[39;00m \u001B[38;5;28;01mNone\u001B[39;00m \u001B[38;5;129;01mor\u001B[39;00m border \u001B[38;5;129;01mis\u001B[39;00m \u001B[38;5;28;01mTrue\u001B[39;00m:\n\u001B[1;32m---> 68\u001B[0m     border \u001B[38;5;241m=\u001B[39m cast(\u001B[38;5;28mint\u001B[39m, \u001B[43mget_option\u001B[49m\u001B[43m(\u001B[49m\u001B[38;5;124;43m\"\u001B[39;49m\u001B[38;5;124;43mfunc.html.border\u001B[39;49m\u001B[38;5;124;43m\"\u001B[39;49m\u001B[43m)\u001B[49m)\n\u001B[0;32m     69\u001B[0m \u001B[38;5;28;01melif\u001B[39;00m \u001B[38;5;129;01mnot\u001B[39;00m border:\n\u001B[0;32m     70\u001B[0m     border \u001B[38;5;241m=\u001B[39m \u001B[38;5;28;01mNone\u001B[39;00m\n",
      "File \u001B[1;32mD:\\codes\\Pycharm\\stock-insight\\.venv\\Lib\\site-packages\\pandas\\_config\\config.py:274\u001B[0m, in \u001B[0;36mCallableDynamicDoc.__call__\u001B[1;34m(self, *args, **kwds)\u001B[0m\n\u001B[0;32m    273\u001B[0m \u001B[38;5;28;01mdef\u001B[39;00m\u001B[38;5;250m \u001B[39m\u001B[38;5;21m__call__\u001B[39m(\u001B[38;5;28mself\u001B[39m, \u001B[38;5;241m*\u001B[39margs, \u001B[38;5;241m*\u001B[39m\u001B[38;5;241m*\u001B[39mkwds) \u001B[38;5;241m-\u001B[39m\u001B[38;5;241m>\u001B[39m T:\n\u001B[1;32m--> 274\u001B[0m     \u001B[38;5;28;01mreturn\u001B[39;00m \u001B[38;5;28;43mself\u001B[39;49m\u001B[38;5;241;43m.\u001B[39;49m\u001B[38;5;18;43m__func__\u001B[39;49m\u001B[43m(\u001B[49m\u001B[38;5;241;43m*\u001B[39;49m\u001B[43margs\u001B[49m\u001B[43m,\u001B[49m\u001B[43m \u001B[49m\u001B[38;5;241;43m*\u001B[39;49m\u001B[38;5;241;43m*\u001B[39;49m\u001B[43mkwds\u001B[49m\u001B[43m)\u001B[49m\n",
      "File \u001B[1;32mD:\\codes\\Pycharm\\stock-insight\\.venv\\Lib\\site-packages\\pandas\\_config\\config.py:146\u001B[0m, in \u001B[0;36m_get_option\u001B[1;34m(pat, silent)\u001B[0m\n\u001B[0;32m    145\u001B[0m \u001B[38;5;28;01mdef\u001B[39;00m\u001B[38;5;250m \u001B[39m\u001B[38;5;21m_get_option\u001B[39m(pat: \u001B[38;5;28mstr\u001B[39m, silent: \u001B[38;5;28mbool\u001B[39m \u001B[38;5;241m=\u001B[39m \u001B[38;5;28;01mFalse\u001B[39;00m) \u001B[38;5;241m-\u001B[39m\u001B[38;5;241m>\u001B[39m Any:\n\u001B[1;32m--> 146\u001B[0m     key \u001B[38;5;241m=\u001B[39m \u001B[43m_get_single_key\u001B[49m\u001B[43m(\u001B[49m\u001B[43mpat\u001B[49m\u001B[43m,\u001B[49m\u001B[43m \u001B[49m\u001B[43msilent\u001B[49m\u001B[43m)\u001B[49m\n\u001B[0;32m    148\u001B[0m     \u001B[38;5;66;03m# walk the nested dict\u001B[39;00m\n\u001B[0;32m    149\u001B[0m     root, k \u001B[38;5;241m=\u001B[39m _get_root(key)\n",
      "File \u001B[1;32mD:\\codes\\Pycharm\\stock-insight\\.venv\\Lib\\site-packages\\pandas\\_config\\config.py:132\u001B[0m, in \u001B[0;36m_get_single_key\u001B[1;34m(pat, silent)\u001B[0m\n\u001B[0;32m    130\u001B[0m     \u001B[38;5;28;01mif\u001B[39;00m \u001B[38;5;129;01mnot\u001B[39;00m silent:\n\u001B[0;32m    131\u001B[0m         _warn_if_deprecated(pat)\n\u001B[1;32m--> 132\u001B[0m     \u001B[38;5;28;01mraise\u001B[39;00m OptionError(\u001B[38;5;124mf\u001B[39m\u001B[38;5;124m\"\u001B[39m\u001B[38;5;124mNo such keys(s): \u001B[39m\u001B[38;5;132;01m{\u001B[39;00m\u001B[38;5;28mrepr\u001B[39m(pat)\u001B[38;5;132;01m}\u001B[39;00m\u001B[38;5;124m\"\u001B[39m)\n\u001B[0;32m    133\u001B[0m \u001B[38;5;28;01mif\u001B[39;00m \u001B[38;5;28mlen\u001B[39m(keys) \u001B[38;5;241m>\u001B[39m \u001B[38;5;241m1\u001B[39m:\n\u001B[0;32m    134\u001B[0m     \u001B[38;5;28;01mraise\u001B[39;00m OptionError(\u001B[38;5;124m\"\u001B[39m\u001B[38;5;124mPattern matched multiple keys\u001B[39m\u001B[38;5;124m\"\u001B[39m)\n",
      "\u001B[1;31mOptionError\u001B[0m: No such keys(s): 'func.html.border'"
     ]
    },
    {
     "data": {
      "text/plain": [
       "            日期       开盘       收盘       最高       最低       成交量           成交额  \\\n",
       "0   2025-01-03  5124.30  5005.62  5153.54  4999.29  25216266  4.808848e+10   \n",
       "1   2025-01-06  4999.41  4950.99  5057.81  4911.41  19907048  3.793579e+10   \n",
       "2   2025-01-07  4972.90  5158.28  5161.66  4972.90  32461542  5.112420e+10   \n",
       "3   2025-01-08  5114.28  5129.82  5175.34  4994.07  28222143  5.306158e+10   \n",
       "4   2025-01-09  5120.57  5174.59  5226.49  5111.81  20245674  5.020950e+10   \n",
       "5   2025-01-10  5156.55  5095.72  5204.11  5095.72  22849846  5.192219e+10   \n",
       "6   2025-01-13  5033.96  5047.10  5103.66  5015.28  17124492  3.715165e+10   \n",
       "7   2025-01-14  5058.83  5314.14  5314.14  4997.79  28764542  6.309446e+10   \n",
       "8   2025-01-15  5287.57  5249.48  5303.01  5224.30  20734097  5.177960e+10   \n",
       "9   2025-01-16  5284.00  5239.97  5341.14  5188.01  21683443  4.995787e+10   \n",
       "10  2025-01-17  5207.72  5344.70  5393.07  5207.72  19612576  5.123504e+10   \n",
       "11  2025-01-20  5383.25  5423.05  5467.13  5383.25  25357117  5.704710e+10   \n",
       "12  2025-01-21  5463.78  5565.30  5607.48  5424.99  33974430  7.375451e+10   \n",
       "13  2025-01-22  5541.79  5556.69  5588.40  5503.28  23226749  6.180672e+10   \n",
       "14  2025-01-23  5611.06  5464.32  5629.61  5458.75  26039671  6.019539e+10   \n",
       "15  2025-01-24  5453.19  5596.18  5600.06  5453.19  25987147  6.050878e+10   \n",
       "16  2025-01-27  5589.76  5488.23  5589.76  5488.23  18687882  4.606675e+10   \n",
       "\n",
       "      振幅   涨跌幅     涨跌额   换手率  \n",
       "0   3.02 -2.15 -109.79  2.00  \n",
       "1   2.92 -1.09  -54.63  1.58  \n",
       "2   3.81  4.19  207.29  2.57  \n",
       "3   3.51 -0.55  -28.46  2.24  \n",
       "4   2.24  0.87   44.77  1.61  \n",
       "5   2.09 -1.52  -78.87  1.81  \n",
       "6   1.73 -0.95  -48.62  1.36  \n",
       "7   6.27  5.29  267.04  2.28  \n",
       "8   1.48 -1.22  -64.66  1.64  \n",
       "9   2.92 -0.18   -9.51  1.72  \n",
       "10  3.54  2.00  104.73  1.56  \n",
       "11  1.57  1.47   78.35  2.01  \n",
       "12  3.37  2.62  142.25  2.69  \n",
       "13  1.53 -0.15   -8.61  1.84  \n",
       "14  3.07 -1.66  -92.37  2.06  \n",
       "15  2.69  2.41  131.86  2.06  \n",
       "16  1.81 -1.93 -107.95  1.48  "
      ]
     },
     "metadata": {},
     "output_type": "display_data"
    }
   ],
   "execution_count": 4
  },
  {
   "metadata": {
    "ExecuteTime": {
     "end_time": "2025-01-25T08:20:50.016186Z",
     "start_time": "2025-01-25T08:20:50.012569Z"
    }
   },
   "cell_type": "code",
   "source": "print(index_zh_a_hist_df.dtypes)",
   "id": "2ae8b9bcb5c73f53",
   "outputs": [
    {
     "name": "stdout",
     "output_type": "stream",
     "text": [
      "日期      object\n",
      "开盘     float64\n",
      "收盘     float64\n",
      "最高     float64\n",
      "最低     float64\n",
      "成交量      int64\n",
      "成交额    float64\n",
      "振幅     float64\n",
      "涨跌幅    float64\n",
      "涨跌额    float64\n",
      "换手率    float64\n",
      "dtype: object\n"
     ]
    }
   ],
   "execution_count": 6
  },
  {
   "metadata": {},
   "cell_type": "code",
   "outputs": [],
   "execution_count": null,
   "source": "",
   "id": "755a46aaec3e002b"
  }
 ],
 "metadata": {
  "kernelspec": {
   "display_name": "Python 3",
   "language": "python",
   "name": "python3"
  },
  "language_info": {
   "codemirror_mode": {
    "name": "ipython",
    "version": 2
   },
   "file_extension": ".py",
   "mimetype": "text/x-python",
   "name": "python",
   "nbconvert_exporter": "python",
   "pygments_lexer": "ipython2",
   "version": "2.7.6"
  }
 },
 "nbformat": 4,
 "nbformat_minor": 5
}
